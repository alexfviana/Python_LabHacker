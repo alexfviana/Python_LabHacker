{
 "cells": [
  {
   "cell_type": "code",
   "execution_count": 4,
   "metadata": {},
   "outputs": [],
   "source": [
    "# importandos as bibliotecas\n",
    "import pandas as pd\n",
    "\n",
    "#Informar o matplotlib sobre gráficos inline\n",
    "%matplotlib inline"
   ]
  },
  {
   "cell_type": "code",
   "execution_count": 5,
   "metadata": {},
   "outputs": [
    {
     "data": {
      "text/html": [
       "<div>\n",
       "<style scoped>\n",
       "    .dataframe tbody tr th:only-of-type {\n",
       "        vertical-align: middle;\n",
       "    }\n",
       "\n",
       "    .dataframe tbody tr th {\n",
       "        vertical-align: top;\n",
       "    }\n",
       "\n",
       "    .dataframe thead th {\n",
       "        text-align: right;\n",
       "    }\n",
       "</style>\n",
       "<table border=\"1\" class=\"dataframe\">\n",
       "  <thead>\n",
       "    <tr style=\"text-align: right;\">\n",
       "      <th></th>\n",
       "      <th>Campanha</th>\n",
       "      <th>Objetivo</th>\n",
       "      <th>Inicio</th>\n",
       "      <th>Final</th>\n",
       "      <th>Local</th>\n",
       "      <th>Região</th>\n",
       "      <th>Qtd Motoristas</th>\n",
       "      <th>Qtd Pedestres</th>\n",
       "      <th>Qtd Motociclistas</th>\n",
       "      <th>Qtd Ciclistas</th>\n",
       "    </tr>\n",
       "  </thead>\n",
       "  <tbody>\n",
       "    <tr>\n",
       "      <th>0</th>\n",
       "      <td>GECED - BLITZEN NOTURNAS</td>\n",
       "      <td>Campanha Educativa de entrega de folder Alcool...</td>\n",
       "      <td>2015-11-27 00:00:00.000</td>\n",
       "      <td>2015-10-27 00:00:00.000</td>\n",
       "      <td>BR 070</td>\n",
       "      <td>NaN</td>\n",
       "      <td>700.0</td>\n",
       "      <td>NaN</td>\n",
       "      <td>NaN</td>\n",
       "      <td>NaN</td>\n",
       "    </tr>\n",
       "    <tr>\n",
       "      <th>1</th>\n",
       "      <td>Operação Funil</td>\n",
       "      <td>Álcool e direção, conscientização de motoristas.</td>\n",
       "      <td>2012-01-10 00:00:00.000</td>\n",
       "      <td>2012-01-10 00:00:00.000</td>\n",
       "      <td>BR 040 - Posto da Polícia Rodoviária Federal</td>\n",
       "      <td>NaN</td>\n",
       "      <td>300.0</td>\n",
       "      <td>NaN</td>\n",
       "      <td>NaN</td>\n",
       "      <td>NaN</td>\n",
       "    </tr>\n",
       "    <tr>\n",
       "      <th>2</th>\n",
       "      <td>Operação Funil</td>\n",
       "      <td>Abordagem de carros. Operação iniciada ás 15:3...</td>\n",
       "      <td>2012-01-12 00:00:00.000</td>\n",
       "      <td>2012-01-12 00:00:00.000</td>\n",
       "      <td>BR 251/ DF 001 - Saída para Unaí</td>\n",
       "      <td>NaN</td>\n",
       "      <td>448.0</td>\n",
       "      <td>NaN</td>\n",
       "      <td>NaN</td>\n",
       "      <td>NaN</td>\n",
       "    </tr>\n",
       "  </tbody>\n",
       "</table>\n",
       "</div>"
      ],
      "text/plain": [
       "                   Campanha  \\\n",
       "0  GECED - BLITZEN NOTURNAS   \n",
       "1            Operação Funil   \n",
       "2            Operação Funil   \n",
       "\n",
       "                                            Objetivo                   Inicio  \\\n",
       "0  Campanha Educativa de entrega de folder Alcool...  2015-11-27 00:00:00.000   \n",
       "1   Álcool e direção, conscientização de motoristas.  2012-01-10 00:00:00.000   \n",
       "2  Abordagem de carros. Operação iniciada ás 15:3...  2012-01-12 00:00:00.000   \n",
       "\n",
       "                     Final                                         Local  \\\n",
       "0  2015-10-27 00:00:00.000                                        BR 070   \n",
       "1  2012-01-10 00:00:00.000  BR 040 - Posto da Polícia Rodoviária Federal   \n",
       "2  2012-01-12 00:00:00.000              BR 251/ DF 001 - Saída para Unaí   \n",
       "\n",
       "  Região  Qtd Motoristas  Qtd Pedestres  Qtd Motociclistas  Qtd Ciclistas  \n",
       "0    NaN           700.0            NaN                NaN            NaN  \n",
       "1    NaN           300.0            NaN                NaN            NaN  \n",
       "2    NaN           448.0            NaN                NaN            NaN  "
      ]
     },
     "execution_count": 5,
     "metadata": {},
     "output_type": "execute_result"
    }
   ],
   "source": [
    "#Vamos importar apenas as 10 primeiras colunas do arquivo\n",
    "\n",
    "# Carregar o arquivo csv\n",
    "df = pd.read_csv('campanhaseducativas.csv', sep = ';' , usecols=[0,1,2,3,4,5,6,7,8,9])\n",
    "\n",
    "#Trocar os nomes das colunas\n",
    "df.columns = ['Campanha', 'Objetivo', 'Inicio', 'Final', 'Local', 'Região', 'Qtd Motoristas', \n",
    "              'Qtd Pedestres', 'Qtd Motociclistas', 'Qtd Ciclistas']\n",
    "\n",
    "#Exibir as primeiras linhas do DataFrame\n",
    "df.head(3)"
   ]
  },
  {
   "cell_type": "code",
   "execution_count": 6,
   "metadata": {},
   "outputs": [
    {
     "data": {
      "text/html": [
       "<div>\n",
       "<style scoped>\n",
       "    .dataframe tbody tr th:only-of-type {\n",
       "        vertical-align: middle;\n",
       "    }\n",
       "\n",
       "    .dataframe tbody tr th {\n",
       "        vertical-align: top;\n",
       "    }\n",
       "\n",
       "    .dataframe thead th {\n",
       "        text-align: right;\n",
       "    }\n",
       "</style>\n",
       "<table border=\"1\" class=\"dataframe\">\n",
       "  <thead>\n",
       "    <tr style=\"text-align: right;\">\n",
       "      <th></th>\n",
       "      <th>Qtd Motoristas</th>\n",
       "      <th>Qtd Pedestres</th>\n",
       "      <th>Qtd Motociclistas</th>\n",
       "      <th>Qtd Ciclistas</th>\n",
       "    </tr>\n",
       "  </thead>\n",
       "  <tbody>\n",
       "    <tr>\n",
       "      <th>count</th>\n",
       "      <td>732.000000</td>\n",
       "      <td>1001.000000</td>\n",
       "      <td>243.000000</td>\n",
       "      <td>191.000000</td>\n",
       "    </tr>\n",
       "    <tr>\n",
       "      <th>mean</th>\n",
       "      <td>478.976776</td>\n",
       "      <td>800.252747</td>\n",
       "      <td>250.185185</td>\n",
       "      <td>192.151832</td>\n",
       "    </tr>\n",
       "    <tr>\n",
       "      <th>std</th>\n",
       "      <td>987.620227</td>\n",
       "      <td>1827.866321</td>\n",
       "      <td>565.826166</td>\n",
       "      <td>520.144345</td>\n",
       "    </tr>\n",
       "    <tr>\n",
       "      <th>min</th>\n",
       "      <td>0.000000</td>\n",
       "      <td>0.000000</td>\n",
       "      <td>0.000000</td>\n",
       "      <td>0.000000</td>\n",
       "    </tr>\n",
       "    <tr>\n",
       "      <th>25%</th>\n",
       "      <td>120.000000</td>\n",
       "      <td>136.000000</td>\n",
       "      <td>0.000000</td>\n",
       "      <td>0.000000</td>\n",
       "    </tr>\n",
       "    <tr>\n",
       "      <th>50%</th>\n",
       "      <td>279.500000</td>\n",
       "      <td>350.000000</td>\n",
       "      <td>10.000000</td>\n",
       "      <td>0.000000</td>\n",
       "    </tr>\n",
       "    <tr>\n",
       "      <th>75%</th>\n",
       "      <td>431.750000</td>\n",
       "      <td>605.000000</td>\n",
       "      <td>234.500000</td>\n",
       "      <td>155.000000</td>\n",
       "    </tr>\n",
       "    <tr>\n",
       "      <th>max</th>\n",
       "      <td>15000.000000</td>\n",
       "      <td>20000.000000</td>\n",
       "      <td>4700.000000</td>\n",
       "      <td>4500.000000</td>\n",
       "    </tr>\n",
       "  </tbody>\n",
       "</table>\n",
       "</div>"
      ],
      "text/plain": [
       "       Qtd Motoristas  Qtd Pedestres  Qtd Motociclistas  Qtd Ciclistas\n",
       "count      732.000000    1001.000000         243.000000     191.000000\n",
       "mean       478.976776     800.252747         250.185185     192.151832\n",
       "std        987.620227    1827.866321         565.826166     520.144345\n",
       "min          0.000000       0.000000           0.000000       0.000000\n",
       "25%        120.000000     136.000000           0.000000       0.000000\n",
       "50%        279.500000     350.000000          10.000000       0.000000\n",
       "75%        431.750000     605.000000         234.500000     155.000000\n",
       "max      15000.000000   20000.000000        4700.000000    4500.000000"
      ]
     },
     "execution_count": 6,
     "metadata": {},
     "output_type": "execute_result"
    }
   ],
   "source": [
    "# Descrever as colunas numéricas\n",
    "df.describe()"
   ]
  },
  {
   "cell_type": "code",
   "execution_count": 7,
   "metadata": {},
   "outputs": [
    {
     "data": {
      "text/plain": [
       "array(['BR 070', 'BR 040 - Posto da Polícia Rodoviária Federal',\n",
       "       'BR 251/ DF 001 - Saída para Unaí', ...,\n",
       "       'Blitz Trânsito Seguro - DF 075', 'Blitz Trânsito Seguro - DF 480',\n",
       "       'Combate à Covid-19 - Comércio, órgãos públicos'], dtype=object)"
      ]
     },
     "execution_count": 7,
     "metadata": {},
     "output_type": "execute_result"
    }
   ],
   "source": [
    "# Listar locais presentes nos dados\n",
    "df['Local'].unique()"
   ]
  },
  {
   "cell_type": "code",
   "execution_count": 8,
   "metadata": {},
   "outputs": [
    {
     "data": {
      "text/plain": [
       "Granja do Torto                              8\n",
       "CAIC ALBERT SABIN DE SANTA MARIA             6\n",
       "DF 002 KM 05                                 6\n",
       "Taguaparque                                  6\n",
       "Hemocentro                                   6\n",
       "                                            ..\n",
       "PASSEIO MOTOCICLISTICO HONDA W3 NORTE        1\n",
       "ANIVERSÁRIO SÃO SEBASTIÃO                    1\n",
       "SGAS 611 MODULO 75 L2 SUL - CEP 70200-710    1\n",
       "Vila Planalto                                1\n",
       "EVENTO VEM DE BIKE AO TRABALHO TRF           1\n",
       "Name: Local, Length: 1345, dtype: int64"
      ]
     },
     "execution_count": 8,
     "metadata": {},
     "output_type": "execute_result"
    }
   ],
   "source": [
    "# Quantas campanhas foram realizadas em cada local\n",
    "df['Local'].value_counts()"
   ]
  },
  {
   "cell_type": "code",
   "execution_count": 9,
   "metadata": {},
   "outputs": [
    {
     "data": {
      "text/plain": [
       "Campanha             1618\n",
       "Objetivo             1618\n",
       "Inicio               1618\n",
       "Final                1618\n",
       "Local                1618\n",
       "Região               1371\n",
       "Qtd Motoristas        732\n",
       "Qtd Pedestres        1001\n",
       "Qtd Motociclistas     243\n",
       "Qtd Ciclistas         191\n",
       "dtype: int64"
      ]
     },
     "execution_count": 9,
     "metadata": {},
     "output_type": "execute_result"
    }
   ],
   "source": [
    "# Quantos locais tem no arquivo\n",
    "df.count()"
   ]
  },
  {
   "cell_type": "code",
   "execution_count": 10,
   "metadata": {},
   "outputs": [
    {
     "data": {
      "text/html": [
       "<div>\n",
       "<style scoped>\n",
       "    .dataframe tbody tr th:only-of-type {\n",
       "        vertical-align: middle;\n",
       "    }\n",
       "\n",
       "    .dataframe tbody tr th {\n",
       "        vertical-align: top;\n",
       "    }\n",
       "\n",
       "    .dataframe thead th {\n",
       "        text-align: right;\n",
       "    }\n",
       "</style>\n",
       "<table border=\"1\" class=\"dataframe\">\n",
       "  <thead>\n",
       "    <tr style=\"text-align: right;\">\n",
       "      <th></th>\n",
       "      <th>Campanha</th>\n",
       "      <th>Objetivo</th>\n",
       "      <th>Inicio</th>\n",
       "      <th>Final</th>\n",
       "      <th>Local</th>\n",
       "      <th>Região</th>\n",
       "      <th>Qtd Motoristas</th>\n",
       "      <th>Qtd Pedestres</th>\n",
       "      <th>Qtd Motociclistas</th>\n",
       "      <th>Qtd Ciclistas</th>\n",
       "    </tr>\n",
       "  </thead>\n",
       "  <tbody>\n",
       "    <tr>\n",
       "      <th>1412</th>\n",
       "      <td>Aniversario da  Granja do Torto</td>\n",
       "      <td>Campanha educativa realizada junto à população...</td>\n",
       "      <td>2018-06-16 00:00:00.000</td>\n",
       "      <td>2018-06-16 00:00:00.000</td>\n",
       "      <td>Granja do Torto</td>\n",
       "      <td>RA I - Plano Piloto</td>\n",
       "      <td>NaN</td>\n",
       "      <td>500.0</td>\n",
       "      <td>NaN</td>\n",
       "      <td>NaN</td>\n",
       "    </tr>\n",
       "    <tr>\n",
       "      <th>1418</th>\n",
       "      <td>Capital moto Week - Moto Capital</td>\n",
       "      <td>Campanha de conscientização  de segurança viár...</td>\n",
       "      <td>2018-07-19 00:00:00.000</td>\n",
       "      <td>2018-07-27 00:00:00.000</td>\n",
       "      <td>Granja do Torto</td>\n",
       "      <td>RA I - Plano Piloto</td>\n",
       "      <td>400.0</td>\n",
       "      <td>100.0</td>\n",
       "      <td>1000.0</td>\n",
       "      <td>0.0</td>\n",
       "    </tr>\n",
       "    <tr>\n",
       "      <th>1419</th>\n",
       "      <td>Capital moto Week - Moto Capital</td>\n",
       "      <td>Campanha de conscientização  de segurança viár...</td>\n",
       "      <td>2018-07-19 00:00:00.000</td>\n",
       "      <td>2018-07-27 00:00:00.000</td>\n",
       "      <td>Granja do Torto</td>\n",
       "      <td>RA I - Plano Piloto</td>\n",
       "      <td>100.0</td>\n",
       "      <td>100.0</td>\n",
       "      <td>1000.0</td>\n",
       "      <td>0.0</td>\n",
       "    </tr>\n",
       "  </tbody>\n",
       "</table>\n",
       "</div>"
      ],
      "text/plain": [
       "                              Campanha  \\\n",
       "1412   Aniversario da  Granja do Torto   \n",
       "1418  Capital moto Week - Moto Capital   \n",
       "1419  Capital moto Week - Moto Capital   \n",
       "\n",
       "                                               Objetivo  \\\n",
       "1412  Campanha educativa realizada junto à população...   \n",
       "1418  Campanha de conscientização  de segurança viár...   \n",
       "1419  Campanha de conscientização  de segurança viár...   \n",
       "\n",
       "                       Inicio                    Final            Local  \\\n",
       "1412  2018-06-16 00:00:00.000  2018-06-16 00:00:00.000  Granja do Torto   \n",
       "1418  2018-07-19 00:00:00.000  2018-07-27 00:00:00.000  Granja do Torto   \n",
       "1419  2018-07-19 00:00:00.000  2018-07-27 00:00:00.000  Granja do Torto   \n",
       "\n",
       "                   Região  Qtd Motoristas  Qtd Pedestres  Qtd Motociclistas  \\\n",
       "1412  RA I - Plano Piloto             NaN          500.0                NaN   \n",
       "1418  RA I - Plano Piloto           400.0          100.0             1000.0   \n",
       "1419  RA I - Plano Piloto           100.0          100.0             1000.0   \n",
       "\n",
       "      Qtd Ciclistas  \n",
       "1412            NaN  \n",
       "1418            0.0  \n",
       "1419            0.0  "
      ]
     },
     "execution_count": 10,
     "metadata": {},
     "output_type": "execute_result"
    }
   ],
   "source": [
    "# Vamos criar um subconjunto dos dados originais\n",
    "df_Gj_Torto = df[ df['Local'] == 'Granja do Torto']\n",
    "# Linhas iniciais\n",
    "df_Gj_Torto.head(3)"
   ]
  },
  {
   "cell_type": "code",
   "execution_count": 11,
   "metadata": {},
   "outputs": [
    {
     "data": {
      "text/html": [
       "<div>\n",
       "<style scoped>\n",
       "    .dataframe tbody tr th:only-of-type {\n",
       "        vertical-align: middle;\n",
       "    }\n",
       "\n",
       "    .dataframe tbody tr th {\n",
       "        vertical-align: top;\n",
       "    }\n",
       "\n",
       "    .dataframe thead th {\n",
       "        text-align: right;\n",
       "    }\n",
       "</style>\n",
       "<table border=\"1\" class=\"dataframe\">\n",
       "  <thead>\n",
       "    <tr style=\"text-align: right;\">\n",
       "      <th></th>\n",
       "      <th>Campanha</th>\n",
       "      <th>Objetivo</th>\n",
       "      <th>Inicio</th>\n",
       "      <th>Final</th>\n",
       "      <th>Local</th>\n",
       "      <th>Região</th>\n",
       "      <th>Qtd Motoristas</th>\n",
       "      <th>Qtd Pedestres</th>\n",
       "      <th>Qtd Motociclistas</th>\n",
       "      <th>Qtd Ciclistas</th>\n",
       "    </tr>\n",
       "  </thead>\n",
       "  <tbody>\n",
       "    <tr>\n",
       "      <th>1550</th>\n",
       "      <td>Brasilia Capital Moto Week</td>\n",
       "      <td>Campanha educativa condução segura e uso de eq...</td>\n",
       "      <td>2019-07-19 00:00:00.000</td>\n",
       "      <td>2019-07-27 00:00:00.000</td>\n",
       "      <td>Granja do Torto</td>\n",
       "      <td>RA I - Plano Piloto</td>\n",
       "      <td>0.0</td>\n",
       "      <td>0.0</td>\n",
       "      <td>1400.0</td>\n",
       "      <td>0.0</td>\n",
       "    </tr>\n",
       "    <tr>\n",
       "      <th>1557</th>\n",
       "      <td>Brasilia Capital Moto Week</td>\n",
       "      <td>Campanha educativa condução segura e uso de eq...</td>\n",
       "      <td>2019-07-19 00:00:00.000</td>\n",
       "      <td>2019-07-27 00:00:00.000</td>\n",
       "      <td>Granja do Torto</td>\n",
       "      <td>RA I - Plano Piloto</td>\n",
       "      <td>0.0</td>\n",
       "      <td>0.0</td>\n",
       "      <td>1400.0</td>\n",
       "      <td>0.0</td>\n",
       "    </tr>\n",
       "    <tr>\n",
       "      <th>1558</th>\n",
       "      <td>Brasilia Capital Moto Week</td>\n",
       "      <td>Campanha educativa condução segura e uso de eq...</td>\n",
       "      <td>2019-07-19 00:00:00.000</td>\n",
       "      <td>2019-07-27 00:00:00.000</td>\n",
       "      <td>Granja do Torto</td>\n",
       "      <td>RA I - Plano Piloto</td>\n",
       "      <td>0.0</td>\n",
       "      <td>0.0</td>\n",
       "      <td>450.0</td>\n",
       "      <td>0.0</td>\n",
       "    </tr>\n",
       "  </tbody>\n",
       "</table>\n",
       "</div>"
      ],
      "text/plain": [
       "                        Campanha  \\\n",
       "1550  Brasilia Capital Moto Week   \n",
       "1557  Brasilia Capital Moto Week   \n",
       "1558  Brasilia Capital Moto Week   \n",
       "\n",
       "                                               Objetivo  \\\n",
       "1550  Campanha educativa condução segura e uso de eq...   \n",
       "1557  Campanha educativa condução segura e uso de eq...   \n",
       "1558  Campanha educativa condução segura e uso de eq...   \n",
       "\n",
       "                       Inicio                    Final            Local  \\\n",
       "1550  2019-07-19 00:00:00.000  2019-07-27 00:00:00.000  Granja do Torto   \n",
       "1557  2019-07-19 00:00:00.000  2019-07-27 00:00:00.000  Granja do Torto   \n",
       "1558  2019-07-19 00:00:00.000  2019-07-27 00:00:00.000  Granja do Torto   \n",
       "\n",
       "                   Região  Qtd Motoristas  Qtd Pedestres  Qtd Motociclistas  \\\n",
       "1550  RA I - Plano Piloto             0.0            0.0             1400.0   \n",
       "1557  RA I - Plano Piloto             0.0            0.0             1400.0   \n",
       "1558  RA I - Plano Piloto             0.0            0.0              450.0   \n",
       "\n",
       "      Qtd Ciclistas  \n",
       "1550            0.0  \n",
       "1557            0.0  \n",
       "1558            0.0  "
      ]
     },
     "execution_count": 11,
     "metadata": {},
     "output_type": "execute_result"
    }
   ],
   "source": [
    "# Linhas finais do DataFrame\n",
    "df_Gj_Torto.tail(3)"
   ]
  },
  {
   "cell_type": "code",
   "execution_count": 12,
   "metadata": {},
   "outputs": [
    {
     "data": {
      "text/html": [
       "<div>\n",
       "<style scoped>\n",
       "    .dataframe tbody tr th:only-of-type {\n",
       "        vertical-align: middle;\n",
       "    }\n",
       "\n",
       "    .dataframe tbody tr th {\n",
       "        vertical-align: top;\n",
       "    }\n",
       "\n",
       "    .dataframe thead th {\n",
       "        text-align: right;\n",
       "    }\n",
       "</style>\n",
       "<table border=\"1\" class=\"dataframe\">\n",
       "  <thead>\n",
       "    <tr style=\"text-align: right;\">\n",
       "      <th></th>\n",
       "      <th>Campanha</th>\n",
       "      <th>Objetivo</th>\n",
       "      <th>Inicio</th>\n",
       "      <th>Final</th>\n",
       "      <th>Local</th>\n",
       "      <th>Região</th>\n",
       "      <th>Qtd Motoristas</th>\n",
       "      <th>Qtd Pedestres</th>\n",
       "      <th>Qtd Motociclistas</th>\n",
       "      <th>Qtd Ciclistas</th>\n",
       "    </tr>\n",
       "  </thead>\n",
       "  <tbody>\n",
       "    <tr>\n",
       "      <th>1550</th>\n",
       "      <td>Brasilia Capital Moto Week</td>\n",
       "      <td>Campanha educativa condução segura e uso de eq...</td>\n",
       "      <td>2019-07-19 00:00:00.000</td>\n",
       "      <td>2019-07-27 00:00:00.000</td>\n",
       "      <td>Granja do Torto</td>\n",
       "      <td>RA I - Plano Piloto</td>\n",
       "      <td>0.0</td>\n",
       "      <td>0.0</td>\n",
       "      <td>1400.0</td>\n",
       "      <td>0.0</td>\n",
       "    </tr>\n",
       "    <tr>\n",
       "      <th>1418</th>\n",
       "      <td>Capital moto Week - Moto Capital</td>\n",
       "      <td>Campanha de conscientização  de segurança viár...</td>\n",
       "      <td>2018-07-19 00:00:00.000</td>\n",
       "      <td>2018-07-27 00:00:00.000</td>\n",
       "      <td>Granja do Torto</td>\n",
       "      <td>RA I - Plano Piloto</td>\n",
       "      <td>400.0</td>\n",
       "      <td>100.0</td>\n",
       "      <td>1000.0</td>\n",
       "      <td>0.0</td>\n",
       "    </tr>\n",
       "    <tr>\n",
       "      <th>1549</th>\n",
       "      <td>Brasilia Capital Moto Week</td>\n",
       "      <td>Campanha educativa condução segura e uso de eq...</td>\n",
       "      <td>2019-07-19 00:00:00.000</td>\n",
       "      <td>2019-07-27 00:00:00.000</td>\n",
       "      <td>Granja do Torto</td>\n",
       "      <td>RA I - Plano Piloto</td>\n",
       "      <td>0.0</td>\n",
       "      <td>0.0</td>\n",
       "      <td>1500.0</td>\n",
       "      <td>0.0</td>\n",
       "    </tr>\n",
       "    <tr>\n",
       "      <th>1557</th>\n",
       "      <td>Brasilia Capital Moto Week</td>\n",
       "      <td>Campanha educativa condução segura e uso de eq...</td>\n",
       "      <td>2019-07-19 00:00:00.000</td>\n",
       "      <td>2019-07-27 00:00:00.000</td>\n",
       "      <td>Granja do Torto</td>\n",
       "      <td>RA I - Plano Piloto</td>\n",
       "      <td>0.0</td>\n",
       "      <td>0.0</td>\n",
       "      <td>1400.0</td>\n",
       "      <td>0.0</td>\n",
       "    </tr>\n",
       "    <tr>\n",
       "      <th>1419</th>\n",
       "      <td>Capital moto Week - Moto Capital</td>\n",
       "      <td>Campanha de conscientização  de segurança viár...</td>\n",
       "      <td>2018-07-19 00:00:00.000</td>\n",
       "      <td>2018-07-27 00:00:00.000</td>\n",
       "      <td>Granja do Torto</td>\n",
       "      <td>RA I - Plano Piloto</td>\n",
       "      <td>100.0</td>\n",
       "      <td>100.0</td>\n",
       "      <td>1000.0</td>\n",
       "      <td>0.0</td>\n",
       "    </tr>\n",
       "  </tbody>\n",
       "</table>\n",
       "</div>"
      ],
      "text/plain": [
       "                              Campanha  \\\n",
       "1550        Brasilia Capital Moto Week   \n",
       "1418  Capital moto Week - Moto Capital   \n",
       "1549        Brasilia Capital Moto Week   \n",
       "1557        Brasilia Capital Moto Week   \n",
       "1419  Capital moto Week - Moto Capital   \n",
       "\n",
       "                                               Objetivo  \\\n",
       "1550  Campanha educativa condução segura e uso de eq...   \n",
       "1418  Campanha de conscientização  de segurança viár...   \n",
       "1549  Campanha educativa condução segura e uso de eq...   \n",
       "1557  Campanha educativa condução segura e uso de eq...   \n",
       "1419  Campanha de conscientização  de segurança viár...   \n",
       "\n",
       "                       Inicio                    Final            Local  \\\n",
       "1550  2019-07-19 00:00:00.000  2019-07-27 00:00:00.000  Granja do Torto   \n",
       "1418  2018-07-19 00:00:00.000  2018-07-27 00:00:00.000  Granja do Torto   \n",
       "1549  2019-07-19 00:00:00.000  2019-07-27 00:00:00.000  Granja do Torto   \n",
       "1557  2019-07-19 00:00:00.000  2019-07-27 00:00:00.000  Granja do Torto   \n",
       "1419  2018-07-19 00:00:00.000  2018-07-27 00:00:00.000  Granja do Torto   \n",
       "\n",
       "                   Região  Qtd Motoristas  Qtd Pedestres  Qtd Motociclistas  \\\n",
       "1550  RA I - Plano Piloto             0.0            0.0             1400.0   \n",
       "1418  RA I - Plano Piloto           400.0          100.0             1000.0   \n",
       "1549  RA I - Plano Piloto             0.0            0.0             1500.0   \n",
       "1557  RA I - Plano Piloto             0.0            0.0             1400.0   \n",
       "1419  RA I - Plano Piloto           100.0          100.0             1000.0   \n",
       "\n",
       "      Qtd Ciclistas  \n",
       "1550            0.0  \n",
       "1418            0.0  \n",
       "1549            0.0  \n",
       "1557            0.0  \n",
       "1419            0.0  "
      ]
     },
     "execution_count": 12,
     "metadata": {},
     "output_type": "execute_result"
    }
   ],
   "source": [
    "# Listar linha aleatórias do DataFrame\n",
    "df_Gj_Torto.sample(5)"
   ]
  },
  {
   "cell_type": "code",
   "execution_count": 13,
   "metadata": {},
   "outputs": [
    {
     "data": {
      "text/plain": [
       "Brasilia Capital Moto Week          5\n",
       "Capital moto Week - Moto Capital    2\n",
       "Aniversario da  Granja do Torto     1\n",
       "Name: Campanha, dtype: int64"
      ]
     },
     "execution_count": 13,
     "metadata": {},
     "output_type": "execute_result"
    }
   ],
   "source": [
    "# A quantidade de camapanhas realizadas na Granja do Torto\n",
    "df_Gj_Torto['Campanha'].value_counts()"
   ]
  },
  {
   "cell_type": "code",
   "execution_count": 14,
   "metadata": {},
   "outputs": [
    {
     "data": {
      "text/plain": [
       "Campanha             7\n",
       "Objetivo             7\n",
       "Inicio               7\n",
       "Final                7\n",
       "Local                7\n",
       "Região               7\n",
       "Qtd Motoristas       7\n",
       "Qtd Pedestres        7\n",
       "Qtd Motociclistas    7\n",
       "Qtd Ciclistas        7\n",
       "dtype: int64"
      ]
     },
     "execution_count": 14,
     "metadata": {},
     "output_type": "execute_result"
    }
   ],
   "source": [
    "# Podemos subdividir o DataFrame com base em pedaço de palavra\n",
    "df_Gj_Torto[df_Gj_Torto['Objetivo'].str.contains('equip')].count()"
   ]
  },
  {
   "cell_type": "code",
   "execution_count": 15,
   "metadata": {},
   "outputs": [
    {
     "data": {
      "text/plain": [
       "DF 002                                       4\n",
       "PASSARELA EPNB                               2\n",
       "CICLOVIA DO PARANOÁ                          2\n",
       "Taguaparque                                  2\n",
       "DF 085                                       2\n",
       "                                            ..\n",
       "Torre Digital                                1\n",
       "PATIO BRASIL - W3 SUL                        1\n",
       "DF 055 quadra 24 Park Way                    1\n",
       "CARREFOUR PISTAO SUL e BOULEVARD SHOPPING    1\n",
       "EVENTO VEM DE BIKE AO TRABALHO TRF           1\n",
       "Name: Local, Length: 66, dtype: int64"
      ]
     },
     "execution_count": 15,
     "metadata": {},
     "output_type": "execute_result"
    }
   ],
   "source": [
    "# Dividir o DataFrame original panes pelos eventos de ciclistas\n",
    "df_ciclistas = df[ df['Qtd Ciclistas'] > 0]\n",
    "\n",
    "# Listar locais onde foram realizadas campanhas realizadas para ciclistas\n",
    "df_ciclistas['Local'].value_counts()"
   ]
  },
  {
   "cell_type": "code",
   "execution_count": 16,
   "metadata": {},
   "outputs": [
    {
     "data": {
      "text/html": [
       "<div>\n",
       "<style scoped>\n",
       "    .dataframe tbody tr th:only-of-type {\n",
       "        vertical-align: middle;\n",
       "    }\n",
       "\n",
       "    .dataframe tbody tr th {\n",
       "        vertical-align: top;\n",
       "    }\n",
       "\n",
       "    .dataframe thead th {\n",
       "        text-align: right;\n",
       "    }\n",
       "</style>\n",
       "<table border=\"1\" class=\"dataframe\">\n",
       "  <thead>\n",
       "    <tr style=\"text-align: right;\">\n",
       "      <th></th>\n",
       "      <th>Campanha</th>\n",
       "      <th>Objetivo</th>\n",
       "      <th>Inicio</th>\n",
       "      <th>Final</th>\n",
       "      <th>Local</th>\n",
       "      <th>Região</th>\n",
       "      <th>Qtd Motoristas</th>\n",
       "      <th>Qtd Pedestres</th>\n",
       "      <th>Qtd Motociclistas</th>\n",
       "      <th>Qtd Ciclistas</th>\n",
       "    </tr>\n",
       "  </thead>\n",
       "  <tbody>\n",
       "    <tr>\n",
       "      <th>21</th>\n",
       "      <td>Passarela</td>\n",
       "      <td>Instruir a população sobre a importância da tr...</td>\n",
       "      <td>2012-01-01 00:00:00.000</td>\n",
       "      <td>2012-12-30 00:00:00.000</td>\n",
       "      <td>PARKSHOPPING</td>\n",
       "      <td>RA VIII - Núcleo Bandeirante</td>\n",
       "      <td>NaN</td>\n",
       "      <td>250.0</td>\n",
       "      <td>NaN</td>\n",
       "      <td>250.0</td>\n",
       "    </tr>\n",
       "    <tr>\n",
       "      <th>22</th>\n",
       "      <td>Passarela</td>\n",
       "      <td>Instruir a população sobre a importância da tr...</td>\n",
       "      <td>2012-01-01 00:00:00.000</td>\n",
       "      <td>2012-12-30 00:00:00.000</td>\n",
       "      <td>CANDAGOLÂNDIA</td>\n",
       "      <td>RA XIX - Candangolândia</td>\n",
       "      <td>NaN</td>\n",
       "      <td>250.0</td>\n",
       "      <td>NaN</td>\n",
       "      <td>250.0</td>\n",
       "    </tr>\n",
       "    <tr>\n",
       "      <th>23</th>\n",
       "      <td>Passarela</td>\n",
       "      <td>Instruir a população sobre a importância da tr...</td>\n",
       "      <td>2012-01-01 00:00:00.000</td>\n",
       "      <td>2012-12-30 00:00:00.000</td>\n",
       "      <td>BR-040</td>\n",
       "      <td>RA XIII - Santa Maria</td>\n",
       "      <td>NaN</td>\n",
       "      <td>250.0</td>\n",
       "      <td>NaN</td>\n",
       "      <td>250.0</td>\n",
       "    </tr>\n",
       "    <tr>\n",
       "      <th>24</th>\n",
       "      <td>Passarela</td>\n",
       "      <td>Instruir a população sobre a importância da tr...</td>\n",
       "      <td>2012-01-01 00:00:00.000</td>\n",
       "      <td>2012-12-30 00:00:00.000</td>\n",
       "      <td>EPTG E PARKSHOPPING</td>\n",
       "      <td>RA III - Taguatinga</td>\n",
       "      <td>NaN</td>\n",
       "      <td>180.0</td>\n",
       "      <td>NaN</td>\n",
       "      <td>220.0</td>\n",
       "    </tr>\n",
       "    <tr>\n",
       "      <th>27</th>\n",
       "      <td>CICLISTAS E PEDESTRES</td>\n",
       "      <td>ENTREGA DE MATERIAL EDUCATIVO PARA CICLISTAS E...</td>\n",
       "      <td>2012-01-01 00:00:00.000</td>\n",
       "      <td>2012-12-31 00:00:00.000</td>\n",
       "      <td>PASSARELA EPNB</td>\n",
       "      <td>RA VIII - Núcleo Bandeirante</td>\n",
       "      <td>NaN</td>\n",
       "      <td>80.0</td>\n",
       "      <td>NaN</td>\n",
       "      <td>150.0</td>\n",
       "    </tr>\n",
       "  </tbody>\n",
       "</table>\n",
       "</div>"
      ],
      "text/plain": [
       "                 Campanha                                           Objetivo  \\\n",
       "21              Passarela  Instruir a população sobre a importância da tr...   \n",
       "22              Passarela  Instruir a população sobre a importância da tr...   \n",
       "23              Passarela  Instruir a população sobre a importância da tr...   \n",
       "24              Passarela  Instruir a população sobre a importância da tr...   \n",
       "27  CICLISTAS E PEDESTRES  ENTREGA DE MATERIAL EDUCATIVO PARA CICLISTAS E...   \n",
       "\n",
       "                     Inicio                    Final                Local  \\\n",
       "21  2012-01-01 00:00:00.000  2012-12-30 00:00:00.000         PARKSHOPPING   \n",
       "22  2012-01-01 00:00:00.000  2012-12-30 00:00:00.000        CANDAGOLÂNDIA   \n",
       "23  2012-01-01 00:00:00.000  2012-12-30 00:00:00.000               BR-040   \n",
       "24  2012-01-01 00:00:00.000  2012-12-30 00:00:00.000  EPTG E PARKSHOPPING   \n",
       "27  2012-01-01 00:00:00.000  2012-12-31 00:00:00.000       PASSARELA EPNB   \n",
       "\n",
       "                          Região  Qtd Motoristas  Qtd Pedestres  \\\n",
       "21  RA VIII - Núcleo Bandeirante             NaN          250.0   \n",
       "22       RA XIX - Candangolândia             NaN          250.0   \n",
       "23         RA XIII - Santa Maria             NaN          250.0   \n",
       "24           RA III - Taguatinga             NaN          180.0   \n",
       "27  RA VIII - Núcleo Bandeirante             NaN           80.0   \n",
       "\n",
       "    Qtd Motociclistas  Qtd Ciclistas  \n",
       "21                NaN          250.0  \n",
       "22                NaN          250.0  \n",
       "23                NaN          250.0  \n",
       "24                NaN          220.0  \n",
       "27                NaN          150.0  "
      ]
     },
     "execution_count": 16,
     "metadata": {},
     "output_type": "execute_result"
    }
   ],
   "source": [
    "# Linhas iniciais\n",
    "df_ciclistas.head()"
   ]
  },
  {
   "cell_type": "markdown",
   "metadata": {},
   "source": []
  },
  {
   "cell_type": "code",
   "execution_count": 17,
   "metadata": {},
   "outputs": [
    {
     "data": {
      "text/plain": [
       "<matplotlib.axes._subplots.AxesSubplot at 0x218347fa400>"
      ]
     },
     "execution_count": 17,
     "metadata": {},
     "output_type": "execute_result"
    },
    {
     "data": {
      "image/png": "[encoded data removed]",
      "text/plain": [
       "<Figure size 432x288 with 1 Axes>"
      ]
     },
     "metadata": {
      "needs_background": "light"
     },
     "output_type": "display_data"
    }
   ],
   "source": [
    "# Vamos plotar um gráfico de barras horizontal\n",
    "df_Gj_Torto['Campanha'].value_counts().plot.barh()"
   ]
  },
  {
   "cell_type": "code",
   "execution_count": 18,
   "metadata": {},
   "outputs": [
    {
     "data": {
      "text/plain": [
       "<matplotlib.axes._subplots.AxesSubplot at 0x218348f2700>"
      ]
     },
     "execution_count": 18,
     "metadata": {},
     "output_type": "execute_result"
    },
    {
     "data": {
      "image/png": "[encoded data removed]",
      "text/plain": [
       "<Figure size 432x288 with 1 Axes>"
      ]
     },
     "metadata": {
      "needs_background": "light"
     },
     "output_type": "display_data"
    }
   ],
   "source": [
    "# Melhorar o gráfico de barras horizontal \n",
    "# inveter a ordem e colocar um título\n",
    "df_Gj_Torto['Campanha'].value_counts(ascending=True).plot.barh(title='Campanhas realizadas na Granja do Torto')"
   ]
  }
 ],
 "metadata": {
  "kernelspec": {
   "display_name": "Python 3",
   "language": "python",
   "name": "python3"
  },
  "language_info": {
   "codemirror_mode": {
    "name": "ipython",
    "version": 3
   },
   "file_extension": ".py",
   "mimetype": "text/x-python",
   "name": "python",
   "nbconvert_exporter": "python",
   "pygments_lexer": "ipython3",
   "version": "3.8.3"
  }
 },
 "nbformat": 4,
 "nbformat_minor": 4
}
