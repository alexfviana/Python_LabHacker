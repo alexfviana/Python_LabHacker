{
 "cells": [
  {
   "cell_type": "markdown",
   "metadata": {},
   "source": [
    "# Mapa das escolas do RS por taxa de distorção de idades por série\n"
   ]
  },
  {
   "cell_type": "code",
   "execution_count": 1,
   "metadata": {},
   "outputs": [
    {
     "name": "stdout",
     "output_type": "stream",
     "text": [
      "Requirement already satisfied: folium in c:\\users\\alexf\\anaconda3\\lib\\site-packages (0.11.0)\n",
      "Requirement already satisfied: numpy in c:\\users\\alexf\\anaconda3\\lib\\site-packages (from folium) (1.18.5)\n",
      "Requirement already satisfied: jinja2>=2.9 in c:\\users\\alexf\\anaconda3\\lib\\site-packages (from folium) (2.11.2)\n",
      "Requirement already satisfied: branca>=0.3.0 in c:\\users\\alexf\\anaconda3\\lib\\site-packages (from folium) (0.4.1)\n",
      "Requirement already satisfied: requests in c:\\users\\alexf\\anaconda3\\lib\\site-packages (from folium) (2.24.0)\n",
      "Requirement already satisfied: MarkupSafe>=0.23 in c:\\users\\alexf\\anaconda3\\lib\\site-packages (from jinja2>=2.9->folium) (1.1.1)\n",
      "Requirement already satisfied: urllib3!=1.25.0,!=1.25.1,<1.26,>=1.21.1 in c:\\users\\alexf\\anaconda3\\lib\\site-packages (from requests->folium) (1.25.9)\n",
      "Requirement already satisfied: chardet<4,>=3.0.2 in c:\\users\\alexf\\anaconda3\\lib\\site-packages (from requests->folium) (3.0.4)\n",
      "Requirement already satisfied: certifi>=2017.4.17 in c:\\users\\alexf\\anaconda3\\lib\\site-packages (from requests->folium) (2020.6.20)\n",
      "Requirement already satisfied: idna<3,>=2.5 in c:\\users\\alexf\\anaconda3\\lib\\site-packages (from requests->folium) (2.10)\n"
     ]
    }
   ],
   "source": [
    "# pip permite instalar novas bibliotecas\n",
    "# ! permite a execução de comandos diretamente no jupyter notebook\n",
    "!pip install folium"
   ]
  },
  {
   "cell_type": "code",
   "execution_count": 2,
   "metadata": {},
   "outputs": [],
   "source": [
    "# importando bibliotecas\n",
    "import pandas as pd\n",
    "%matplotlib inline\n",
    "import folium"
   ]
  },
  {
   "cell_type": "code",
   "execution_count": 3,
   "metadata": {},
   "outputs": [
    {
     "data": {
      "text/html": [
       "<div>\n",
       "<style scoped>\n",
       "    .dataframe tbody tr th:only-of-type {\n",
       "        vertical-align: middle;\n",
       "    }\n",
       "\n",
       "    .dataframe tbody tr th {\n",
       "        vertical-align: top;\n",
       "    }\n",
       "\n",
       "    .dataframe thead th {\n",
       "        text-align: right;\n",
       "    }\n",
       "</style>\n",
       "<table border=\"1\" class=\"dataframe\">\n",
       "  <thead>\n",
       "    <tr style=\"text-align: right;\">\n",
       "      <th></th>\n",
       "      <th>Município</th>\n",
       "      <th>ibge</th>\n",
       "      <th>latitude</th>\n",
       "      <th>longitude</th>\n",
       "      <th>/Educação/Ens...de Série/Total 2013 (-)</th>\n",
       "    </tr>\n",
       "  </thead>\n",
       "  <tbody>\n",
       "    <tr>\n",
       "      <th>0</th>\n",
       "      <td>Aceguá</td>\n",
       "      <td>4300034</td>\n",
       "      <td>-31.86076</td>\n",
       "      <td>-54.16706</td>\n",
       "      <td>25,7</td>\n",
       "    </tr>\n",
       "    <tr>\n",
       "      <th>1</th>\n",
       "      <td>Água Santa</td>\n",
       "      <td>4300059</td>\n",
       "      <td>-28.16720</td>\n",
       "      <td>-52.03100</td>\n",
       "      <td>14,7</td>\n",
       "    </tr>\n",
       "    <tr>\n",
       "      <th>2</th>\n",
       "      <td>Agudo</td>\n",
       "      <td>4300109</td>\n",
       "      <td>-29.64470</td>\n",
       "      <td>-53.25150</td>\n",
       "      <td>26,4</td>\n",
       "    </tr>\n",
       "    <tr>\n",
       "      <th>3</th>\n",
       "      <td>Ajuricaba</td>\n",
       "      <td>4300208</td>\n",
       "      <td>-28.23420</td>\n",
       "      <td>-53.77570</td>\n",
       "      <td>24,1</td>\n",
       "    </tr>\n",
       "    <tr>\n",
       "      <th>4</th>\n",
       "      <td>Alecrim</td>\n",
       "      <td>4300307</td>\n",
       "      <td>-27.65790</td>\n",
       "      <td>-54.76490</td>\n",
       "      <td>18,9</td>\n",
       "    </tr>\n",
       "  </tbody>\n",
       "</table>\n",
       "</div>"
      ],
      "text/plain": [
       "    Município     ibge  latitude  longitude  \\\n",
       "0      Aceguá  4300034 -31.86076  -54.16706   \n",
       "1  Água Santa  4300059 -28.16720  -52.03100   \n",
       "2       Agudo  4300109 -29.64470  -53.25150   \n",
       "3   Ajuricaba  4300208 -28.23420  -53.77570   \n",
       "4     Alecrim  4300307 -27.65790  -54.76490   \n",
       "\n",
       "  /Educação/Ens...de Série/Total 2013 (-)  \n",
       "0                                    25,7  \n",
       "1                                    14,7  \n",
       "2                                    26,4  \n",
       "3                                    24,1  \n",
       "4                                    18,9  "
      ]
     },
     "execution_count": 3,
     "metadata": {},
     "output_type": "execute_result"
    }
   ],
   "source": [
    "# carregando o arquivo csv\n",
    "df = pd.read_csv('fee-2013-mun-taxa-de-distorcao-idade-serie-total-102524.csv', encoding='latin1', skiprows=1)\n",
    "df.head()"
   ]
  },
  {
   "cell_type": "code",
   "execution_count": 4,
   "metadata": {},
   "outputs": [
    {
     "data": {
      "text/html": [
       "<div>\n",
       "<style scoped>\n",
       "    .dataframe tbody tr th:only-of-type {\n",
       "        vertical-align: middle;\n",
       "    }\n",
       "\n",
       "    .dataframe tbody tr th {\n",
       "        vertical-align: top;\n",
       "    }\n",
       "\n",
       "    .dataframe thead th {\n",
       "        text-align: right;\n",
       "    }\n",
       "</style>\n",
       "<table border=\"1\" class=\"dataframe\">\n",
       "  <thead>\n",
       "    <tr style=\"text-align: right;\">\n",
       "      <th></th>\n",
       "      <th>Município</th>\n",
       "      <th>ibge</th>\n",
       "      <th>latitude</th>\n",
       "      <th>longitude</th>\n",
       "      <th>tx_distorcao</th>\n",
       "    </tr>\n",
       "  </thead>\n",
       "  <tbody>\n",
       "    <tr>\n",
       "      <th>0</th>\n",
       "      <td>Aceguá</td>\n",
       "      <td>4300034</td>\n",
       "      <td>-31.86076</td>\n",
       "      <td>-54.16706</td>\n",
       "      <td>25,7</td>\n",
       "    </tr>\n",
       "    <tr>\n",
       "      <th>1</th>\n",
       "      <td>Água Santa</td>\n",
       "      <td>4300059</td>\n",
       "      <td>-28.16720</td>\n",
       "      <td>-52.03100</td>\n",
       "      <td>14,7</td>\n",
       "    </tr>\n",
       "    <tr>\n",
       "      <th>2</th>\n",
       "      <td>Agudo</td>\n",
       "      <td>4300109</td>\n",
       "      <td>-29.64470</td>\n",
       "      <td>-53.25150</td>\n",
       "      <td>26,4</td>\n",
       "    </tr>\n",
       "    <tr>\n",
       "      <th>3</th>\n",
       "      <td>Ajuricaba</td>\n",
       "      <td>4300208</td>\n",
       "      <td>-28.23420</td>\n",
       "      <td>-53.77570</td>\n",
       "      <td>24,1</td>\n",
       "    </tr>\n",
       "    <tr>\n",
       "      <th>4</th>\n",
       "      <td>Alecrim</td>\n",
       "      <td>4300307</td>\n",
       "      <td>-27.65790</td>\n",
       "      <td>-54.76490</td>\n",
       "      <td>18,9</td>\n",
       "    </tr>\n",
       "  </tbody>\n",
       "</table>\n",
       "</div>"
      ],
      "text/plain": [
       "    Município     ibge  latitude  longitude tx_distorcao\n",
       "0      Aceguá  4300034 -31.86076  -54.16706         25,7\n",
       "1  Água Santa  4300059 -28.16720  -52.03100         14,7\n",
       "2       Agudo  4300109 -29.64470  -53.25150         26,4\n",
       "3   Ajuricaba  4300208 -28.23420  -53.77570         24,1\n",
       "4     Alecrim  4300307 -27.65790  -54.76490         18,9"
      ]
     },
     "execution_count": 4,
     "metadata": {},
     "output_type": "execute_result"
    }
   ],
   "source": [
    "# renomeando colunas\n",
    "df.rename(columns={'/Educação/Ens...de Série/Total 2013 (-)' : 'tx_distorcao'}, inplace=True)\n",
    "df.head()"
   ]
  },
  {
   "cell_type": "code",
   "execution_count": 5,
   "metadata": {},
   "outputs": [
    {
     "name": "stdout",
     "output_type": "stream",
     "text": [
      "<class 'pandas.core.frame.DataFrame'>\n",
      "RangeIndex: 495 entries, 0 to 494\n",
      "Data columns (total 5 columns):\n",
      " #   Column        Non-Null Count  Dtype  \n",
      "---  ------        --------------  -----  \n",
      " 0   Município     495 non-null    object \n",
      " 1   ibge          495 non-null    int64  \n",
      " 2   latitude      495 non-null    float64\n",
      " 3   longitude     495 non-null    float64\n",
      " 4   tx_distorcao  495 non-null    object \n",
      "dtypes: float64(2), int64(1), object(2)\n",
      "memory usage: 19.5+ KB\n"
     ]
    }
   ],
   "source": [
    "# Verificando o DataFrame\n",
    "df.info()"
   ]
  },
  {
   "cell_type": "code",
   "execution_count": 6,
   "metadata": {},
   "outputs": [
    {
     "name": "stdout",
     "output_type": "stream",
     "text": [
      "<class 'pandas.core.frame.DataFrame'>\n",
      "RangeIndex: 495 entries, 0 to 494\n",
      "Data columns (total 5 columns):\n",
      " #   Column        Non-Null Count  Dtype  \n",
      "---  ------        --------------  -----  \n",
      " 0   Município     495 non-null    object \n",
      " 1   ibge          495 non-null    int64  \n",
      " 2   latitude      495 non-null    float64\n",
      " 3   longitude     495 non-null    float64\n",
      " 4   tx_distorcao  495 non-null    float64\n",
      "dtypes: float64(3), int64(1), object(1)\n",
      "memory usage: 19.5+ KB\n"
     ]
    }
   ],
   "source": [
    "# Substituir virgula por ponto e converter valores de tx_distorcao\n",
    "df [ 'tx_distorcao' ] = df [ 'tx_distorcao' ].str.replace( ',' , '.' )\n",
    "df [ 'tx_distorcao' ] = df [ 'tx_distorcao' ].astype ( float )\n",
    "df.info()"
   ]
  },
  {
   "cell_type": "code",
   "execution_count": 7,
   "metadata": {},
   "outputs": [
    {
     "data": {
      "text/html": [
       "<div>\n",
       "<style scoped>\n",
       "    .dataframe tbody tr th:only-of-type {\n",
       "        vertical-align: middle;\n",
       "    }\n",
       "\n",
       "    .dataframe tbody tr th {\n",
       "        vertical-align: top;\n",
       "    }\n",
       "\n",
       "    .dataframe thead th {\n",
       "        text-align: right;\n",
       "    }\n",
       "</style>\n",
       "<table border=\"1\" class=\"dataframe\">\n",
       "  <thead>\n",
       "    <tr style=\"text-align: right;\">\n",
       "      <th></th>\n",
       "      <th>Município</th>\n",
       "      <th>ibge</th>\n",
       "      <th>latitude</th>\n",
       "      <th>longitude</th>\n",
       "      <th>tx_distorcao</th>\n",
       "    </tr>\n",
       "  </thead>\n",
       "  <tbody>\n",
       "    <tr>\n",
       "      <th>490</th>\n",
       "      <td>Vista Alegre do Prata</td>\n",
       "      <td>4323606</td>\n",
       "      <td>-28.8052</td>\n",
       "      <td>-51.7946</td>\n",
       "      <td>2.6</td>\n",
       "    </tr>\n",
       "    <tr>\n",
       "      <th>375</th>\n",
       "      <td>Santo Antônio do Palma</td>\n",
       "      <td>4317558</td>\n",
       "      <td>-28.4956</td>\n",
       "      <td>-52.0267</td>\n",
       "      <td>4.3</td>\n",
       "    </tr>\n",
       "    <tr>\n",
       "      <th>28</th>\n",
       "      <td>Áurea</td>\n",
       "      <td>4301552</td>\n",
       "      <td>-27.6936</td>\n",
       "      <td>-52.0505</td>\n",
       "      <td>5.8</td>\n",
       "    </tr>\n",
       "    <tr>\n",
       "      <th>268</th>\n",
       "      <td>Nicolau Vergueiro</td>\n",
       "      <td>4312674</td>\n",
       "      <td>-28.5298</td>\n",
       "      <td>-52.4676</td>\n",
       "      <td>7.0</td>\n",
       "    </tr>\n",
       "    <tr>\n",
       "      <th>128</th>\n",
       "      <td>Derrubadas</td>\n",
       "      <td>4306320</td>\n",
       "      <td>-27.2642</td>\n",
       "      <td>-53.8645</td>\n",
       "      <td>7.4</td>\n",
       "    </tr>\n",
       "    <tr>\n",
       "      <th>119</th>\n",
       "      <td>Cotiporã</td>\n",
       "      <td>4305959</td>\n",
       "      <td>-28.9891</td>\n",
       "      <td>-51.6971</td>\n",
       "      <td>7.5</td>\n",
       "    </tr>\n",
       "    <tr>\n",
       "      <th>68</th>\n",
       "      <td>Campestre da Serra</td>\n",
       "      <td>4303673</td>\n",
       "      <td>-28.7926</td>\n",
       "      <td>-51.0941</td>\n",
       "      <td>7.6</td>\n",
       "    </tr>\n",
       "    <tr>\n",
       "      <th>476</th>\n",
       "      <td>Vanini</td>\n",
       "      <td>4322558</td>\n",
       "      <td>-28.4758</td>\n",
       "      <td>-51.8447</td>\n",
       "      <td>7.8</td>\n",
       "    </tr>\n",
       "    <tr>\n",
       "      <th>236</th>\n",
       "      <td>Linha Nova</td>\n",
       "      <td>4311643</td>\n",
       "      <td>-29.4679</td>\n",
       "      <td>-51.2003</td>\n",
       "      <td>8.0</td>\n",
       "    </tr>\n",
       "    <tr>\n",
       "      <th>392</th>\n",
       "      <td>São José do Inhacorá</td>\n",
       "      <td>4318499</td>\n",
       "      <td>-27.7251</td>\n",
       "      <td>-54.1275</td>\n",
       "      <td>8.0</td>\n",
       "    </tr>\n",
       "  </tbody>\n",
       "</table>\n",
       "</div>"
      ],
      "text/plain": [
       "                  Município     ibge  latitude  longitude  tx_distorcao\n",
       "490   Vista Alegre do Prata  4323606  -28.8052   -51.7946           2.6\n",
       "375  Santo Antônio do Palma  4317558  -28.4956   -52.0267           4.3\n",
       "28                    Áurea  4301552  -27.6936   -52.0505           5.8\n",
       "268       Nicolau Vergueiro  4312674  -28.5298   -52.4676           7.0\n",
       "128              Derrubadas  4306320  -27.2642   -53.8645           7.4\n",
       "119                Cotiporã  4305959  -28.9891   -51.6971           7.5\n",
       "68       Campestre da Serra  4303673  -28.7926   -51.0941           7.6\n",
       "476                  Vanini  4322558  -28.4758   -51.8447           7.8\n",
       "236              Linha Nova  4311643  -29.4679   -51.2003           8.0\n",
       "392    São José do Inhacorá  4318499  -27.7251   -54.1275           8.0"
      ]
     },
     "execution_count": 7,
     "metadata": {},
     "output_type": "execute_result"
    }
   ],
   "source": [
    "# Quais os 10 municípios com menor taxa de distorção\n",
    "df.nsmallest(10, 'tx_distorcao')"
   ]
  },
  {
   "cell_type": "code",
   "execution_count": 8,
   "metadata": {},
   "outputs": [
    {
     "data": {
      "text/html": [
       "<div>\n",
       "<style scoped>\n",
       "    .dataframe tbody tr th:only-of-type {\n",
       "        vertical-align: middle;\n",
       "    }\n",
       "\n",
       "    .dataframe tbody tr th {\n",
       "        vertical-align: top;\n",
       "    }\n",
       "\n",
       "    .dataframe thead th {\n",
       "        text-align: right;\n",
       "    }\n",
       "</style>\n",
       "<table border=\"1\" class=\"dataframe\">\n",
       "  <thead>\n",
       "    <tr style=\"text-align: right;\">\n",
       "      <th></th>\n",
       "      <th>Município</th>\n",
       "      <th>ibge</th>\n",
       "      <th>latitude</th>\n",
       "      <th>longitude</th>\n",
       "      <th>tx_distorcao</th>\n",
       "    </tr>\n",
       "  </thead>\n",
       "  <tbody>\n",
       "    <tr>\n",
       "      <th>307</th>\n",
       "      <td>Pedras Altas</td>\n",
       "      <td>4314175</td>\n",
       "      <td>-31.7217</td>\n",
       "      <td>-53.5838</td>\n",
       "      <td>56.0</td>\n",
       "    </tr>\n",
       "    <tr>\n",
       "      <th>316</th>\n",
       "      <td>Pinheiro Machado</td>\n",
       "      <td>4314506</td>\n",
       "      <td>-31.5794</td>\n",
       "      <td>-53.3798</td>\n",
       "      <td>53.9</td>\n",
       "    </tr>\n",
       "    <tr>\n",
       "      <th>17</th>\n",
       "      <td>Arambaré</td>\n",
       "      <td>4300851</td>\n",
       "      <td>-30.9093</td>\n",
       "      <td>-51.5046</td>\n",
       "      <td>52.8</td>\n",
       "    </tr>\n",
       "    <tr>\n",
       "      <th>140</th>\n",
       "      <td>Eldorado do Sul</td>\n",
       "      <td>4306767</td>\n",
       "      <td>-30.0847</td>\n",
       "      <td>-51.6187</td>\n",
       "      <td>51.9</td>\n",
       "    </tr>\n",
       "    <tr>\n",
       "      <th>35</th>\n",
       "      <td>Barra do Quaraí</td>\n",
       "      <td>4301875</td>\n",
       "      <td>-30.2029</td>\n",
       "      <td>-57.5497</td>\n",
       "      <td>51.5</td>\n",
       "    </tr>\n",
       "    <tr>\n",
       "      <th>393</th>\n",
       "      <td>São José do Norte</td>\n",
       "      <td>4318507</td>\n",
       "      <td>-32.0151</td>\n",
       "      <td>-52.0331</td>\n",
       "      <td>49.4</td>\n",
       "    </tr>\n",
       "    <tr>\n",
       "      <th>413</th>\n",
       "      <td>São Valério do Sul</td>\n",
       "      <td>4319737</td>\n",
       "      <td>-27.7906</td>\n",
       "      <td>-53.9368</td>\n",
       "      <td>49.2</td>\n",
       "    </tr>\n",
       "    <tr>\n",
       "      <th>193</th>\n",
       "      <td>Hulha Negra</td>\n",
       "      <td>4309654</td>\n",
       "      <td>-31.4067</td>\n",
       "      <td>-53.8667</td>\n",
       "      <td>49.0</td>\n",
       "    </tr>\n",
       "    <tr>\n",
       "      <th>106</th>\n",
       "      <td>Chuí</td>\n",
       "      <td>4305439</td>\n",
       "      <td>-33.6866</td>\n",
       "      <td>-53.4594</td>\n",
       "      <td>48.6</td>\n",
       "    </tr>\n",
       "    <tr>\n",
       "      <th>233</th>\n",
       "      <td>Lavras do Sul</td>\n",
       "      <td>4311502</td>\n",
       "      <td>-30.8071</td>\n",
       "      <td>-53.8931</td>\n",
       "      <td>47.7</td>\n",
       "    </tr>\n",
       "  </tbody>\n",
       "</table>\n",
       "</div>"
      ],
      "text/plain": [
       "              Município     ibge  latitude  longitude  tx_distorcao\n",
       "307        Pedras Altas  4314175  -31.7217   -53.5838          56.0\n",
       "316    Pinheiro Machado  4314506  -31.5794   -53.3798          53.9\n",
       "17             Arambaré  4300851  -30.9093   -51.5046          52.8\n",
       "140     Eldorado do Sul  4306767  -30.0847   -51.6187          51.9\n",
       "35      Barra do Quaraí  4301875  -30.2029   -57.5497          51.5\n",
       "393   São José do Norte  4318507  -32.0151   -52.0331          49.4\n",
       "413  São Valério do Sul  4319737  -27.7906   -53.9368          49.2\n",
       "193         Hulha Negra  4309654  -31.4067   -53.8667          49.0\n",
       "106                Chuí  4305439  -33.6866   -53.4594          48.6\n",
       "233       Lavras do Sul  4311502  -30.8071   -53.8931          47.7"
      ]
     },
     "execution_count": 8,
     "metadata": {},
     "output_type": "execute_result"
    }
   ],
   "source": [
    "# Quais os 10 municípios com maior taxa de distorção\n",
    "df.nlargest(10, 'tx_distorcao')"
   ]
  },
  {
   "cell_type": "code",
   "execution_count": 9,
   "metadata": {},
   "outputs": [
    {
     "data": {
      "text/plain": [
       "<matplotlib.axes._subplots.AxesSubplot at 0x170a0da4940>"
      ]
     },
     "execution_count": 9,
     "metadata": {},
     "output_type": "execute_result"
    },
    {
     "data": {
      "image/png": "[encoded data removed]",
      "text/plain": [
       "<Figure size 432x288 with 1 Axes>"
      ]
     },
     "metadata": {
      "needs_background": "light"
     },
     "output_type": "display_data"
    }
   ],
   "source": [
    "# Plotando um histograma\n",
    "df [ 'tx_distorcao'].plot.hist()"
   ]
  },
  {
   "cell_type": "code",
   "execution_count": 10,
   "metadata": {},
   "outputs": [
    {
     "data": {
      "text/plain": [
       "23.7"
      ]
     },
     "execution_count": 10,
     "metadata": {},
     "output_type": "execute_result"
    }
   ],
   "source": [
    "# Plotando um histograma\n",
    "df [ 'tx_distorcao'].median()"
   ]
  },
  {
   "cell_type": "code",
   "execution_count": 11,
   "metadata": {},
   "outputs": [
    {
     "data": {
      "text/plain": [
       "<matplotlib.lines.Line2D at 0x170a0e8a160>"
      ]
     },
     "execution_count": 11,
     "metadata": {},
     "output_type": "execute_result"
    },
    {
     "data": {
      "image/png": "[encoded data removed]",
      "text/plain": [
       "<Figure size 432x288 with 1 Axes>"
      ]
     },
     "metadata": {
      "needs_background": "light"
     },
     "output_type": "display_data"
    }
   ],
   "source": [
    "# Plotando um histograma\n",
    "df [ 'tx_distorcao'].plot.hist(bins=100, color='red')\n",
    "\n",
    "import matplotlib.pyplot as plt\n",
    "plt.axvline( 23.7, color='black', linestyle='--')"
   ]
  },
  {
   "cell_type": "code",
   "execution_count": 12,
   "metadata": {},
   "outputs": [
    {
     "data": {
      "text/plain": [
       "Município       17\n",
       "ibge            17\n",
       "latitude        17\n",
       "longitude       17\n",
       "tx_distorcao    17\n",
       "dtype: int64"
      ]
     },
     "execution_count": 12,
     "metadata": {},
     "output_type": "execute_result"
    }
   ],
   "source": [
    "# Quantidade de municípios com tx de distorção menor ou igual a 10.\n",
    "df [ df ['tx_distorcao'] <= 10 ].count()"
   ]
  },
  {
   "cell_type": "code",
   "execution_count": 13,
   "metadata": {},
   "outputs": [
    {
     "data": {
      "text/plain": [
       "Município       17\n",
       "ibge            17\n",
       "latitude        17\n",
       "longitude       17\n",
       "tx_distorcao    17\n",
       "dtype: int64"
      ]
     },
     "execution_count": 13,
     "metadata": {},
     "output_type": "execute_result"
    }
   ],
   "source": [
    "# Quantidade de municípios com tx de distorção maior ou igual a 45.\n",
    "df [ df ['tx_distorcao'] >= 45 ].count()"
   ]
  },
  {
   "cell_type": "code",
   "execution_count": 14,
   "metadata": {},
   "outputs": [
    {
     "data": {
      "text/html": [
       "<div style=\"width:100%;\"><div style=\"position:relative;width:100%;height:0;padding-bottom:60%;\"><span style=\"color:#565656\">Make this Notebook Trusted to load map: File -> Trust Notebook</span><iframe src=\"about:blank\" style=\"position:absolute;width:100%;height:100%;left:0;top:0;border:none !important;\" data-html=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 onload=\"this.contentDocument.open();this.contentDocument.write(atob(this.getAttribute('data-html')));this.contentDocument.close();\" allowfullscreen webkitallowfullscreen mozallowfullscreen></iframe></div></div>"
      ],
      "text/plain": [
       "<folium.folium.Map at 0x170a0f109d0>"
      ]
     },
     "execution_count": 14,
     "metadata": {},
     "output_type": "execute_result"
    }
   ],
   "source": [
    "# Vamos aprender como o Folium funciona\n",
    "\n",
    "# Criar um mapa com base em uma coordenada central\n",
    "brasil = folium.Map(\n",
    "    location=[-14 , -58\n",
    "             ], # coordenadas do google maps\n",
    "    zoom_start = 4\n",
    ")\n",
    "\n",
    "# Mostrando o mapa\n",
    "brasil"
   ]
  },
  {
   "cell_type": "code",
   "execution_count": 15,
   "metadata": {
    "scrolled": true
   },
   "outputs": [
    {
     "data": {
      "text/html": [
       "<div style=\"width:100%;\"><div style=\"position:relative;width:100%;height:0;padding-bottom:60%;\"><span style=\"color:#565656\">Make this Notebook Trusted to load map: File -> Trust Notebook</span><iframe src=\"about:blank\" style=\"position:absolute;width:100%;height:100%;left:0;top:0;border:none !important;\" data-html=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 onload=\"this.contentDocument.open();this.contentDocument.write(atob(this.getAttribute('data-html')));this.contentDocument.close();\" allowfullscreen webkitallowfullscreen mozallowfullscreen></iframe></div></div>"
      ],
      "text/plain": [
       "<folium.folium.Map at 0x170a0e88af0>"
      ]
     },
     "execution_count": 15,
     "metadata": {},
     "output_type": "execute_result"
    }
   ],
   "source": [
    "# Criar um mapa com base em uma coordenada central para o RS\n",
    "rs = folium.Map(\n",
    "    location=[-30.5 , -53.5 ], # coordenadas do google maps\n",
    "    zoom_start = 7\n",
    "\n",
    ")\n",
    "\n",
    "# Mostrando o mapa\n",
    "rs"
   ]
  },
  {
   "cell_type": "code",
   "execution_count": 16,
   "metadata": {
    "scrolled": true
   },
   "outputs": [
    {
     "data": {
      "text/html": [
       "<div style=\"width:100%;\"><div style=\"position:relative;width:100%;height:0;padding-bottom:60%;\"><span style=\"color:#565656\">Make this Notebook Trusted to load map: File -> Trust Notebook</span><iframe src=\"about:blank\" style=\"position:absolute;width:100%;height:100%;left:0;top:0;border:none !important;\" data-html=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 onload=\"this.contentDocument.open();this.contentDocument.write(atob(this.getAttribute('data-html')));this.contentDocument.close();\" allowfullscreen webkitallowfullscreen mozallowfullscreen></iframe></div></div>"
      ],
      "text/plain": [
       "<folium.folium.Map at 0x170a0e88af0>"
      ]
     },
     "execution_count": 16,
     "metadata": {},
     "output_type": "execute_result"
    }
   ],
   "source": [
    "# Percorrer o DataFrame com base nas melhores escolas (tx_distorção <= 10) e desenhar um marcador para cada escola\n",
    "# usando for e inter rows\n",
    "\n",
    "for indice,municipio in df[df['tx_distorcao'] <= 10].iterrows():\n",
    "    folium.Marker(\n",
    "        location=[municipio['latitude'], municipio['longitude'] ],\n",
    "        popup=municipio['Município'],\n",
    "        icon=folium.map.Icon(color='green')\n",
    "    ).add_to(rs)\n",
    "    \n",
    "rs"
   ]
  },
  {
   "cell_type": "code",
   "execution_count": 18,
   "metadata": {
    "scrolled": true
   },
   "outputs": [
    {
     "data": {
      "text/html": [
       "<div style=\"width:100%;\"><div style=\"position:relative;width:100%;height:0;padding-bottom:60%;\"><span style=\"color:#565656\">Make this Notebook Trusted to load map: File -> Trust Notebook</span><iframe src=\"about:blank\" style=\"position:absolute;width:100%;height:100%;left:0;top:0;border:none !important;\" data-html=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 onload=\"this.contentDocument.open();this.contentDocument.write(atob(this.getAttribute('data-html')));this.contentDocument.close();\" allowfullscreen webkitallowfullscreen mozallowfullscreen></iframe></div></div>"
      ],
      "text/plain": [
       "<folium.folium.Map at 0x170a0e88af0>"
      ]
     },
     "execution_count": 18,
     "metadata": {},
     "output_type": "execute_result"
    }
   ],
   "source": [
    "# Percorrer o DataFrame com base nas piores escolas (tx_distorção >= 45) e desenhar um marcador para cada escola\n",
    "# usando for e inter rows\n",
    "\n",
    "for indice,municipio in df[df['tx_distorcao'] >= 45].iterrows():\n",
    "    folium.Marker(\n",
    "        location=[municipio['latitude'], municipio['longitude'] ],\n",
    "        popup=municipio['Município'],\n",
    "        icon=folium.map.Icon(color='red')\n",
    "    ).add_to(rs)\n",
    "    \n",
    "rs"
   ]
  },
  {
   "cell_type": "code",
   "execution_count": 21,
   "metadata": {},
   "outputs": [
    {
     "data": {
      "text/plain": [
       "325    32.3\n",
       "Name: tx_distorcao, dtype: float64"
      ]
     },
     "execution_count": 21,
     "metadata": {},
     "output_type": "execute_result"
    }
   ],
   "source": [
    "# Qual a taxa de distorção de PA\n",
    "df[df['Município'] == 'Porto Alegre']['tx_distorcao']"
   ]
  }
 ],
 "metadata": {
  "kernelspec": {
   "display_name": "Python 3",
   "language": "python",
   "name": "python3"
  },
  "language_info": {
   "codemirror_mode": {
    "name": "ipython",
    "version": 3
   },
   "file_extension": ".py",
   "mimetype": "text/x-python",
   "name": "python",
   "nbconvert_exporter": "python",
   "pygments_lexer": "ipython3",
   "version": "3.8.3"
  }
 },
 "nbformat": 4,
 "nbformat_minor": 4
}
