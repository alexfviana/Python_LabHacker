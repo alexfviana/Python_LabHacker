{
 "cells": [
  {
   "cell_type": "markdown",
   "metadata": {},
   "source": [
    "# Mapa das escolas do RS por taxa de distorção de idades por série\n"
   ]
  },
  {
   "cell_type": "code",
   "execution_count": 1,
   "metadata": {},
   "outputs": [
    {
     "name": "stdout",
     "output_type": "stream",
     "text": [
      "Requirement already satisfied: folium in c:\\users\\alexf\\anaconda3\\lib\\site-packages (0.11.0)\n",
      "Requirement already satisfied: requests in c:\\users\\alexf\\anaconda3\\lib\\site-packages (from folium) (2.24.0)\n",
      "Requirement already satisfied: jinja2>=2.9 in c:\\users\\alexf\\anaconda3\\lib\\site-packages (from folium) (2.11.2)\n",
      "Requirement already satisfied: branca>=0.3.0 in c:\\users\\alexf\\anaconda3\\lib\\site-packages (from folium) (0.4.1)\n",
      "Requirement already satisfied: numpy in c:\\users\\alexf\\anaconda3\\lib\\site-packages (from folium) (1.18.5)\n",
      "Requirement already satisfied: idna<3,>=2.5 in c:\\users\\alexf\\anaconda3\\lib\\site-packages (from requests->folium) (2.10)\n",
      "Requirement already satisfied: chardet<4,>=3.0.2 in c:\\users\\alexf\\anaconda3\\lib\\site-packages (from requests->folium) (3.0.4)\n",
      "Requirement already satisfied: certifi>=2017.4.17 in c:\\users\\alexf\\anaconda3\\lib\\site-packages (from requests->folium) (2020.6.20)\n",
      "Requirement already satisfied: urllib3!=1.25.0,!=1.25.1,<1.26,>=1.21.1 in c:\\users\\alexf\\anaconda3\\lib\\site-packages (from requests->folium) (1.25.9)\n",
      "Requirement already satisfied: MarkupSafe>=0.23 in c:\\users\\alexf\\anaconda3\\lib\\site-packages (from jinja2>=2.9->folium) (1.1.1)\n"
     ]
    }
   ],
   "source": [
    "# pip permite instalar novas bibliotecas\n",
    "# ! permite a execução de comandos diretamente no jupyter notebook\n",
    "!pip install folium"
   ]
  },
  {
   "cell_type": "code",
   "execution_count": 2,
   "metadata": {},
   "outputs": [],
   "source": [
    "# importando bibliotecas\n",
    "import pandas as pd\n",
    "%matplotlib inline\n",
    "import folium"
   ]
  },
  {
   "cell_type": "code",
   "execution_count": 3,
   "metadata": {},
   "outputs": [
    {
     "data": {
      "text/html": [
       "<div>\n",
       "<style scoped>\n",
       "    .dataframe tbody tr th:only-of-type {\n",
       "        vertical-align: middle;\n",
       "    }\n",
       "\n",
       "    .dataframe tbody tr th {\n",
       "        vertical-align: top;\n",
       "    }\n",
       "\n",
       "    .dataframe thead th {\n",
       "        text-align: right;\n",
       "    }\n",
       "</style>\n",
       "<table border=\"1\" class=\"dataframe\">\n",
       "  <thead>\n",
       "    <tr style=\"text-align: right;\">\n",
       "      <th></th>\n",
       "      <th>Município</th>\n",
       "      <th>ibge</th>\n",
       "      <th>latitude</th>\n",
       "      <th>longitude</th>\n",
       "      <th>/Educação/Ens...de Série/Total 2013 (-)</th>\n",
       "    </tr>\n",
       "  </thead>\n",
       "  <tbody>\n",
       "    <tr>\n",
       "      <th>0</th>\n",
       "      <td>Aceguá</td>\n",
       "      <td>4300034</td>\n",
       "      <td>-31.86076</td>\n",
       "      <td>-54.16706</td>\n",
       "      <td>25,7</td>\n",
       "    </tr>\n",
       "    <tr>\n",
       "      <th>1</th>\n",
       "      <td>Água Santa</td>\n",
       "      <td>4300059</td>\n",
       "      <td>-28.16720</td>\n",
       "      <td>-52.03100</td>\n",
       "      <td>14,7</td>\n",
       "    </tr>\n",
       "    <tr>\n",
       "      <th>2</th>\n",
       "      <td>Agudo</td>\n",
       "      <td>4300109</td>\n",
       "      <td>-29.64470</td>\n",
       "      <td>-53.25150</td>\n",
       "      <td>26,4</td>\n",
       "    </tr>\n",
       "    <tr>\n",
       "      <th>3</th>\n",
       "      <td>Ajuricaba</td>\n",
       "      <td>4300208</td>\n",
       "      <td>-28.23420</td>\n",
       "      <td>-53.77570</td>\n",
       "      <td>24,1</td>\n",
       "    </tr>\n",
       "    <tr>\n",
       "      <th>4</th>\n",
       "      <td>Alecrim</td>\n",
       "      <td>4300307</td>\n",
       "      <td>-27.65790</td>\n",
       "      <td>-54.76490</td>\n",
       "      <td>18,9</td>\n",
       "    </tr>\n",
       "  </tbody>\n",
       "</table>\n",
       "</div>"
      ],
      "text/plain": [
       "    Município     ibge  latitude  longitude  \\\n",
       "0      Aceguá  4300034 -31.86076  -54.16706   \n",
       "1  Água Santa  4300059 -28.16720  -52.03100   \n",
       "2       Agudo  4300109 -29.64470  -53.25150   \n",
       "3   Ajuricaba  4300208 -28.23420  -53.77570   \n",
       "4     Alecrim  4300307 -27.65790  -54.76490   \n",
       "\n",
       "  /Educação/Ens...de Série/Total 2013 (-)  \n",
       "0                                    25,7  \n",
       "1                                    14,7  \n",
       "2                                    26,4  \n",
       "3                                    24,1  \n",
       "4                                    18,9  "
      ]
     },
     "execution_count": 3,
     "metadata": {},
     "output_type": "execute_result"
    }
   ],
   "source": [
    "# carregando o arquivo csv\n",
    "df = pd.read_csv('fee-2013-mun-taxa-de-distorcao-idade-serie-total-102524.csv', encoding='latin1', skiprows=1)\n",
    "df.head()"
   ]
  },
  {
   "cell_type": "code",
   "execution_count": 4,
   "metadata": {},
   "outputs": [
    {
     "data": {
      "text/html": [
       "<div>\n",
       "<style scoped>\n",
       "    .dataframe tbody tr th:only-of-type {\n",
       "        vertical-align: middle;\n",
       "    }\n",
       "\n",
       "    .dataframe tbody tr th {\n",
       "        vertical-align: top;\n",
       "    }\n",
       "\n",
       "    .dataframe thead th {\n",
       "        text-align: right;\n",
       "    }\n",
       "</style>\n",
       "<table border=\"1\" class=\"dataframe\">\n",
       "  <thead>\n",
       "    <tr style=\"text-align: right;\">\n",
       "      <th></th>\n",
       "      <th>Município</th>\n",
       "      <th>ibge</th>\n",
       "      <th>latitude</th>\n",
       "      <th>longitude</th>\n",
       "      <th>tx_distorcao</th>\n",
       "    </tr>\n",
       "  </thead>\n",
       "  <tbody>\n",
       "    <tr>\n",
       "      <th>0</th>\n",
       "      <td>Aceguá</td>\n",
       "      <td>4300034</td>\n",
       "      <td>-31.86076</td>\n",
       "      <td>-54.16706</td>\n",
       "      <td>25,7</td>\n",
       "    </tr>\n",
       "    <tr>\n",
       "      <th>1</th>\n",
       "      <td>Água Santa</td>\n",
       "      <td>4300059</td>\n",
       "      <td>-28.16720</td>\n",
       "      <td>-52.03100</td>\n",
       "      <td>14,7</td>\n",
       "    </tr>\n",
       "    <tr>\n",
       "      <th>2</th>\n",
       "      <td>Agudo</td>\n",
       "      <td>4300109</td>\n",
       "      <td>-29.64470</td>\n",
       "      <td>-53.25150</td>\n",
       "      <td>26,4</td>\n",
       "    </tr>\n",
       "    <tr>\n",
       "      <th>3</th>\n",
       "      <td>Ajuricaba</td>\n",
       "      <td>4300208</td>\n",
       "      <td>-28.23420</td>\n",
       "      <td>-53.77570</td>\n",
       "      <td>24,1</td>\n",
       "    </tr>\n",
       "    <tr>\n",
       "      <th>4</th>\n",
       "      <td>Alecrim</td>\n",
       "      <td>4300307</td>\n",
       "      <td>-27.65790</td>\n",
       "      <td>-54.76490</td>\n",
       "      <td>18,9</td>\n",
       "    </tr>\n",
       "  </tbody>\n",
       "</table>\n",
       "</div>"
      ],
      "text/plain": [
       "    Município     ibge  latitude  longitude tx_distorcao\n",
       "0      Aceguá  4300034 -31.86076  -54.16706         25,7\n",
       "1  Água Santa  4300059 -28.16720  -52.03100         14,7\n",
       "2       Agudo  4300109 -29.64470  -53.25150         26,4\n",
       "3   Ajuricaba  4300208 -28.23420  -53.77570         24,1\n",
       "4     Alecrim  4300307 -27.65790  -54.76490         18,9"
      ]
     },
     "execution_count": 4,
     "metadata": {},
     "output_type": "execute_result"
    }
   ],
   "source": [
    "# renomeando colunas\n",
    "df.rename(columns={'/Educação/Ens...de Série/Total 2013 (-)' : 'tx_distorcao'}, inplace=True)\n",
    "df.head()"
   ]
  },
  {
   "cell_type": "code",
   "execution_count": 5,
   "metadata": {},
   "outputs": [
    {
     "name": "stdout",
     "output_type": "stream",
     "text": [
      "<class 'pandas.core.frame.DataFrame'>\n",
      "RangeIndex: 495 entries, 0 to 494\n",
      "Data columns (total 5 columns):\n",
      " #   Column        Non-Null Count  Dtype  \n",
      "---  ------        --------------  -----  \n",
      " 0   Município     495 non-null    object \n",
      " 1   ibge          495 non-null    int64  \n",
      " 2   latitude      495 non-null    float64\n",
      " 3   longitude     495 non-null    float64\n",
      " 4   tx_distorcao  495 non-null    object \n",
      "dtypes: float64(2), int64(1), object(2)\n",
      "memory usage: 19.5+ KB\n"
     ]
    }
   ],
   "source": [
    "# Verificando o DataFrame\n",
    "df.info()"
   ]
  },
  {
   "cell_type": "code",
   "execution_count": 6,
   "metadata": {},
   "outputs": [
    {
     "name": "stdout",
     "output_type": "stream",
     "text": [
      "<class 'pandas.core.frame.DataFrame'>\n",
      "RangeIndex: 495 entries, 0 to 494\n",
      "Data columns (total 5 columns):\n",
      " #   Column        Non-Null Count  Dtype  \n",
      "---  ------        --------------  -----  \n",
      " 0   Município     495 non-null    object \n",
      " 1   ibge          495 non-null    int64  \n",
      " 2   latitude      495 non-null    float64\n",
      " 3   longitude     495 non-null    float64\n",
      " 4   tx_distorcao  495 non-null    float64\n",
      "dtypes: float64(3), int64(1), object(1)\n",
      "memory usage: 19.5+ KB\n"
     ]
    }
   ],
   "source": [
    "# Substituir virgula por ponto e converter valores de tx_distorcao\n",
    "df [ 'tx_distorcao' ] = df [ 'tx_distorcao' ].str.replace( ',' , '.' )\n",
    "df [ 'tx_distorcao' ] = df [ 'tx_distorcao' ].astype ( float )\n",
    "df.info()"
   ]
  },
  {
   "cell_type": "code",
   "execution_count": 7,
   "metadata": {},
   "outputs": [
    {
     "data": {
      "text/html": [
       "<div>\n",
       "<style scoped>\n",
       "    .dataframe tbody tr th:only-of-type {\n",
       "        vertical-align: middle;\n",
       "    }\n",
       "\n",
       "    .dataframe tbody tr th {\n",
       "        vertical-align: top;\n",
       "    }\n",
       "\n",
       "    .dataframe thead th {\n",
       "        text-align: right;\n",
       "    }\n",
       "</style>\n",
       "<table border=\"1\" class=\"dataframe\">\n",
       "  <thead>\n",
       "    <tr style=\"text-align: right;\">\n",
       "      <th></th>\n",
       "      <th>Município</th>\n",
       "      <th>ibge</th>\n",
       "      <th>latitude</th>\n",
       "      <th>longitude</th>\n",
       "      <th>tx_distorcao</th>\n",
       "    </tr>\n",
       "  </thead>\n",
       "  <tbody>\n",
       "    <tr>\n",
       "      <th>490</th>\n",
       "      <td>Vista Alegre do Prata</td>\n",
       "      <td>4323606</td>\n",
       "      <td>-28.8052</td>\n",
       "      <td>-51.7946</td>\n",
       "      <td>2.6</td>\n",
       "    </tr>\n",
       "    <tr>\n",
       "      <th>375</th>\n",
       "      <td>Santo Antônio do Palma</td>\n",
       "      <td>4317558</td>\n",
       "      <td>-28.4956</td>\n",
       "      <td>-52.0267</td>\n",
       "      <td>4.3</td>\n",
       "    </tr>\n",
       "    <tr>\n",
       "      <th>28</th>\n",
       "      <td>Áurea</td>\n",
       "      <td>4301552</td>\n",
       "      <td>-27.6936</td>\n",
       "      <td>-52.0505</td>\n",
       "      <td>5.8</td>\n",
       "    </tr>\n",
       "    <tr>\n",
       "      <th>268</th>\n",
       "      <td>Nicolau Vergueiro</td>\n",
       "      <td>4312674</td>\n",
       "      <td>-28.5298</td>\n",
       "      <td>-52.4676</td>\n",
       "      <td>7.0</td>\n",
       "    </tr>\n",
       "    <tr>\n",
       "      <th>128</th>\n",
       "      <td>Derrubadas</td>\n",
       "      <td>4306320</td>\n",
       "      <td>-27.2642</td>\n",
       "      <td>-53.8645</td>\n",
       "      <td>7.4</td>\n",
       "    </tr>\n",
       "    <tr>\n",
       "      <th>119</th>\n",
       "      <td>Cotiporã</td>\n",
       "      <td>4305959</td>\n",
       "      <td>-28.9891</td>\n",
       "      <td>-51.6971</td>\n",
       "      <td>7.5</td>\n",
       "    </tr>\n",
       "    <tr>\n",
       "      <th>68</th>\n",
       "      <td>Campestre da Serra</td>\n",
       "      <td>4303673</td>\n",
       "      <td>-28.7926</td>\n",
       "      <td>-51.0941</td>\n",
       "      <td>7.6</td>\n",
       "    </tr>\n",
       "    <tr>\n",
       "      <th>476</th>\n",
       "      <td>Vanini</td>\n",
       "      <td>4322558</td>\n",
       "      <td>-28.4758</td>\n",
       "      <td>-51.8447</td>\n",
       "      <td>7.8</td>\n",
       "    </tr>\n",
       "    <tr>\n",
       "      <th>236</th>\n",
       "      <td>Linha Nova</td>\n",
       "      <td>4311643</td>\n",
       "      <td>-29.4679</td>\n",
       "      <td>-51.2003</td>\n",
       "      <td>8.0</td>\n",
       "    </tr>\n",
       "    <tr>\n",
       "      <th>392</th>\n",
       "      <td>São José do Inhacorá</td>\n",
       "      <td>4318499</td>\n",
       "      <td>-27.7251</td>\n",
       "      <td>-54.1275</td>\n",
       "      <td>8.0</td>\n",
       "    </tr>\n",
       "  </tbody>\n",
       "</table>\n",
       "</div>"
      ],
      "text/plain": [
       "                  Município     ibge  latitude  longitude  tx_distorcao\n",
       "490   Vista Alegre do Prata  4323606  -28.8052   -51.7946           2.6\n",
       "375  Santo Antônio do Palma  4317558  -28.4956   -52.0267           4.3\n",
       "28                    Áurea  4301552  -27.6936   -52.0505           5.8\n",
       "268       Nicolau Vergueiro  4312674  -28.5298   -52.4676           7.0\n",
       "128              Derrubadas  4306320  -27.2642   -53.8645           7.4\n",
       "119                Cotiporã  4305959  -28.9891   -51.6971           7.5\n",
       "68       Campestre da Serra  4303673  -28.7926   -51.0941           7.6\n",
       "476                  Vanini  4322558  -28.4758   -51.8447           7.8\n",
       "236              Linha Nova  4311643  -29.4679   -51.2003           8.0\n",
       "392    São José do Inhacorá  4318499  -27.7251   -54.1275           8.0"
      ]
     },
     "execution_count": 7,
     "metadata": {},
     "output_type": "execute_result"
    }
   ],
   "source": [
    "# Quais os 10 municípios com menor taxa de distorção\n",
    "df.nsmallest(10, 'tx_distorcao')"
   ]
  },
  {
   "cell_type": "code",
   "execution_count": 8,
   "metadata": {},
   "outputs": [
    {
     "data": {
      "text/html": [
       "<div>\n",
       "<style scoped>\n",
       "    .dataframe tbody tr th:only-of-type {\n",
       "        vertical-align: middle;\n",
       "    }\n",
       "\n",
       "    .dataframe tbody tr th {\n",
       "        vertical-align: top;\n",
       "    }\n",
       "\n",
       "    .dataframe thead th {\n",
       "        text-align: right;\n",
       "    }\n",
       "</style>\n",
       "<table border=\"1\" class=\"dataframe\">\n",
       "  <thead>\n",
       "    <tr style=\"text-align: right;\">\n",
       "      <th></th>\n",
       "      <th>Município</th>\n",
       "      <th>ibge</th>\n",
       "      <th>latitude</th>\n",
       "      <th>longitude</th>\n",
       "      <th>tx_distorcao</th>\n",
       "    </tr>\n",
       "  </thead>\n",
       "  <tbody>\n",
       "    <tr>\n",
       "      <th>307</th>\n",
       "      <td>Pedras Altas</td>\n",
       "      <td>4314175</td>\n",
       "      <td>-31.7217</td>\n",
       "      <td>-53.5838</td>\n",
       "      <td>56.0</td>\n",
       "    </tr>\n",
       "    <tr>\n",
       "      <th>316</th>\n",
       "      <td>Pinheiro Machado</td>\n",
       "      <td>4314506</td>\n",
       "      <td>-31.5794</td>\n",
       "      <td>-53.3798</td>\n",
       "      <td>53.9</td>\n",
       "    </tr>\n",
       "    <tr>\n",
       "      <th>17</th>\n",
       "      <td>Arambaré</td>\n",
       "      <td>4300851</td>\n",
       "      <td>-30.9093</td>\n",
       "      <td>-51.5046</td>\n",
       "      <td>52.8</td>\n",
       "    </tr>\n",
       "    <tr>\n",
       "      <th>140</th>\n",
       "      <td>Eldorado do Sul</td>\n",
       "      <td>4306767</td>\n",
       "      <td>-30.0847</td>\n",
       "      <td>-51.6187</td>\n",
       "      <td>51.9</td>\n",
       "    </tr>\n",
       "    <tr>\n",
       "      <th>35</th>\n",
       "      <td>Barra do Quaraí</td>\n",
       "      <td>4301875</td>\n",
       "      <td>-30.2029</td>\n",
       "      <td>-57.5497</td>\n",
       "      <td>51.5</td>\n",
       "    </tr>\n",
       "    <tr>\n",
       "      <th>393</th>\n",
       "      <td>São José do Norte</td>\n",
       "      <td>4318507</td>\n",
       "      <td>-32.0151</td>\n",
       "      <td>-52.0331</td>\n",
       "      <td>49.4</td>\n",
       "    </tr>\n",
       "    <tr>\n",
       "      <th>413</th>\n",
       "      <td>São Valério do Sul</td>\n",
       "      <td>4319737</td>\n",
       "      <td>-27.7906</td>\n",
       "      <td>-53.9368</td>\n",
       "      <td>49.2</td>\n",
       "    </tr>\n",
       "    <tr>\n",
       "      <th>193</th>\n",
       "      <td>Hulha Negra</td>\n",
       "      <td>4309654</td>\n",
       "      <td>-31.4067</td>\n",
       "      <td>-53.8667</td>\n",
       "      <td>49.0</td>\n",
       "    </tr>\n",
       "    <tr>\n",
       "      <th>106</th>\n",
       "      <td>Chuí</td>\n",
       "      <td>4305439</td>\n",
       "      <td>-33.6866</td>\n",
       "      <td>-53.4594</td>\n",
       "      <td>48.6</td>\n",
       "    </tr>\n",
       "    <tr>\n",
       "      <th>233</th>\n",
       "      <td>Lavras do Sul</td>\n",
       "      <td>4311502</td>\n",
       "      <td>-30.8071</td>\n",
       "      <td>-53.8931</td>\n",
       "      <td>47.7</td>\n",
       "    </tr>\n",
       "  </tbody>\n",
       "</table>\n",
       "</div>"
      ],
      "text/plain": [
       "              Município     ibge  latitude  longitude  tx_distorcao\n",
       "307        Pedras Altas  4314175  -31.7217   -53.5838          56.0\n",
       "316    Pinheiro Machado  4314506  -31.5794   -53.3798          53.9\n",
       "17             Arambaré  4300851  -30.9093   -51.5046          52.8\n",
       "140     Eldorado do Sul  4306767  -30.0847   -51.6187          51.9\n",
       "35      Barra do Quaraí  4301875  -30.2029   -57.5497          51.5\n",
       "393   São José do Norte  4318507  -32.0151   -52.0331          49.4\n",
       "413  São Valério do Sul  4319737  -27.7906   -53.9368          49.2\n",
       "193         Hulha Negra  4309654  -31.4067   -53.8667          49.0\n",
       "106                Chuí  4305439  -33.6866   -53.4594          48.6\n",
       "233       Lavras do Sul  4311502  -30.8071   -53.8931          47.7"
      ]
     },
     "execution_count": 8,
     "metadata": {},
     "output_type": "execute_result"
    }
   ],
   "source": [
    "# Quais os 10 municípios com maior taxa de distorção\n",
    "df.nlargest(10, 'tx_distorcao')"
   ]
  },
  {
   "cell_type": "code",
   "execution_count": 9,
   "metadata": {},
   "outputs": [
    {
     "data": {
      "text/plain": [
       "<matplotlib.axes._subplots.AxesSubplot at 0x18b85fa6490>"
      ]
     },
     "execution_count": 9,
     "metadata": {},
     "output_type": "execute_result"
    },
    {
     "data": {
      "image/png": "[encoded data removed]",
      "text/plain": [
       "<Figure size 432x288 with 1 Axes>"
      ]
     },
     "metadata": {
      "needs_background": "light"
     },
     "output_type": "display_data"
    }
   ],
   "source": [
    "# Plotando um histograma\n",
    "df [ 'tx_distorcao'].plot.hist()"
   ]
  },
  {
   "cell_type": "code",
   "execution_count": 10,
   "metadata": {},
   "outputs": [
    {
     "data": {
      "text/plain": [
       "23.7"
      ]
     },
     "execution_count": 10,
     "metadata": {},
     "output_type": "execute_result"
    }
   ],
   "source": [
    "# Plotando um histograma\n",
    "df [ 'tx_distorcao'].median()"
   ]
  },
  {
   "cell_type": "code",
   "execution_count": 11,
   "metadata": {},
   "outputs": [
    {
     "data": {
      "text/plain": [
       "<matplotlib.lines.Line2D at 0x18b86069130>"
      ]
     },
     "execution_count": 11,
     "metadata": {},
     "output_type": "execute_result"
    },
    {
     "data": {
      "image/png": "[encoded data removed]",
      "text/plain": [
       "<Figure size 432x288 with 1 Axes>"
      ]
     },
     "metadata": {
      "needs_background": "light"
     },
     "output_type": "display_data"
    }
   ],
   "source": [
    "# Plotando um histograma\n",
    "df [ 'tx_distorcao'].plot.hist(bins=100, color='red')\n",
    "\n",
    "import matplotlib.pyplot as plt\n",
    "plt.axvline( 23.7, color='black', linestyle='--')"
   ]
  },
  {
   "cell_type": "code",
   "execution_count": 12,
   "metadata": {},
   "outputs": [
    {
     "data": {
      "text/plain": [
       "Município       17\n",
       "ibge            17\n",
       "latitude        17\n",
       "longitude       17\n",
       "tx_distorcao    17\n",
       "dtype: int64"
      ]
     },
     "execution_count": 12,
     "metadata": {},
     "output_type": "execute_result"
    }
   ],
   "source": [
    "# Quantidade de municípios com tx de distorção menor ou igual a 10.\n",
    "df [ df ['tx_distorcao'] <= 10 ].count()"
   ]
  },
  {
   "cell_type": "code",
   "execution_count": 13,
   "metadata": {},
   "outputs": [
    {
     "data": {
      "text/plain": [
       "Município       17\n",
       "ibge            17\n",
       "latitude        17\n",
       "longitude       17\n",
       "tx_distorcao    17\n",
       "dtype: int64"
      ]
     },
     "execution_count": 13,
     "metadata": {},
     "output_type": "execute_result"
    }
   ],
   "source": [
    "# Quantidade de municípios com tx de distorção maior ou igual a 45.\n",
    "df [ df ['tx_distorcao'] >= 45 ].count()"
   ]
  },
  {
   "cell_type": "code",
   "execution_count": 14,
   "metadata": {},
   "outputs": [
    {
     "data": {
      "text/html": [
       "<div style=\"width:100%;\"><div style=\"position:relative;width:100%;height:0;padding-bottom:60%;\"><span style=\"color:#565656\">Make this Notebook Trusted to load map: File -> Trust Notebook</span><iframe src=\"about:blank\" style=\"position:absolute;width:100%;height:100%;left:0;top:0;border:none !important;\" data-html=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 onload=\"this.contentDocument.open();this.contentDocument.write(atob(this.getAttribute('data-html')));this.contentDocument.close();\" allowfullscreen webkitallowfullscreen mozallowfullscreen></iframe></div></div>"
      ],
      "text/plain": [
       "<folium.folium.Map at 0x18b861c7610>"
      ]
     },
     "execution_count": 14,
     "metadata": {},
     "output_type": "execute_result"
    }
   ],
   "source": [
    "# Vamos aprender como o Folium funciona\n",
    "\n",
    "# Criar um mapa com base em uma coordenada central\n",
    "brasil = folium.Map(\n",
    "    location=[-14 , -58\n",
    "             ], # coordenadas do google maps\n",
    "    zoom_start = 4\n",
    ")\n",
    "\n",
    "# Mostrando o mapa\n",
    "brasil"
   ]
  },
  {
   "cell_type": "markdown",
   "metadata": {},
   "source": [
    "\n",
    "\n",
    "![Mapa1](http://localhost:8888/view/OneDrive/Documentos/GitHub/Python_LabHacker/10.Mapa_Educa%C3%A7%C3%A3o/Mapa1.JPG)"
   ]
  },
  {
   "cell_type": "markdown",
   "metadata": {},
   "source": [
    "## Mostrando o mapa\n",
    "Como no github não aparece a imagem do mapa, sera ilustrado o resultado obtido no Jupyter Notebook.\n",
    "![Mapa1](Mapa1.JPG)"
   ]
  },
  {
   "cell_type": "code",
   "execution_count": 15,
   "metadata": {
    "scrolled": false
   },
   "outputs": [
    {
     "data": {
      "text/html": [
       "<div style=\"width:100%;\"><div style=\"position:relative;width:100%;height:0;padding-bottom:60%;\"><span style=\"color:#565656\">Make this Notebook Trusted to load map: File -> Trust Notebook</span><iframe src=\"about:blank\" style=\"position:absolute;width:100%;height:100%;left:0;top:0;border:none !important;\" data-html=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 onload=\"this.contentDocument.open();this.contentDocument.write(atob(this.getAttribute('data-html')));this.contentDocument.close();\" allowfullscreen webkitallowfullscreen mozallowfullscreen></iframe></div></div>"
      ],
      "text/plain": [
       "<folium.folium.Map at 0x18b861aeb20>"
      ]
     },
     "execution_count": 15,
     "metadata": {},
     "output_type": "execute_result"
    }
   ],
   "source": [
    "# Criar um mapa com base em uma coordenada central para o RS\n",
    "rs = folium.Map(\n",
    "    location=[-30.5 , -53.5 ], # coordenadas do google maps\n",
    "    zoom_start = 7\n",
    "\n",
    ")\n",
    "\n",
    "# Mostrando o mapa\n",
    "rs"
   ]
  },
  {
   "cell_type": "markdown",
   "metadata": {},
   "source": [
    "## Mostrando o mapa\n",
    "Como no github não aparece a imagem do mapa, sera ilustrado o resultado obtido no Jupyter Notebook.\n",
    "![Mapa1](Mapa2.JPG)"
   ]
  },
  {
   "cell_type": "code",
   "execution_count": 16,
   "metadata": {
    "scrolled": false
   },
   "outputs": [
    {
     "data": {
      "text/html": [
       "<div style=\"width:100%;\"><div style=\"position:relative;width:100%;height:0;padding-bottom:60%;\"><span style=\"color:#565656\">Make this Notebook Trusted to load map: File -> Trust Notebook</span><iframe src=\"about:blank\" style=\"position:absolute;width:100%;height:100%;left:0;top:0;border:none !important;\" data-html=PCFET0NUWVBFIGh0bWw+CjxoZWFkPiAgICAKICAgIDxtZXRhIGh0dHAtZXF1aXY9ImNvbnRlbnQtdHlwZSIgY29udGVudD0idGV4dC9odG1sOyBjaGFyc2V0PVVURi04IiAvPgogICAgCiAgICAgICAgPHNjcmlwdD4KICAgICAgICAgICAgTF9OT19UT1VDSCA9IGZhbHNlOwogICAgICAgICAgICBMX0RJU0FCTEVfM0QgPSBmYWxzZTsKICAgICAgICA8L3NjcmlwdD4KICAgIAogICAgPHNjcmlwdCBzcmM9Imh0dHBzOi8vY2RuLmpzZGVsaXZyLm5ldC9ucG0vbGVhZmxldEAxLjYuMC9kaXN0L2xlYWZsZXQuanMiPjwvc2NyaXB0PgogICAgPHNjcmlwdCBzcmM9Imh0dHBzOi8vY29kZS5qcXVlcnkuY29tL2pxdWVyeS0xLjEyLjQubWluLmpzIj48L3NjcmlwdD4KICAgIDxzY3JpcHQgc3JjPSJodHRwczovL21heGNkbi5ib290c3RyYXBjZG4uY29tL2Jvb3RzdHJhcC8zLjIuMC9qcy9ib290c3RyYXAubWluLmpzIj48L3NjcmlwdD4KICAgIDxzY3JpcHQgc3JjPSJodHRwczovL2NkbmpzLmNsb3VkZmxhcmUuY29tL2FqYXgvbGlicy9MZWFmbGV0LmF3ZXNvbWUtbWFya2Vycy8yLjAuMi9sZWFmbGV0LmF3ZXNvbWUtbWFya2Vycy5qcyI+PC9zY3JpcHQ+CiAgICA8bGluayByZWw9InN0eWxlc2hlZXQiIGhyZWY9Imh0dHBzOi8vY2RuLmpzZGVsaXZyLm5ldC9ucG0vbGVhZmxldEAxLjYuMC9kaXN0L2xlYWZsZXQuY3NzIi8+CiAgICA8bGluayByZWw9InN0eWxlc2hlZXQiIGhyZWY9Imh0dHBzOi8vbWF4Y2RuLmJvb3RzdHJhcGNkbi5jb20vYm9vdHN0cmFwLzMuMi4wL2Nzcy9ib290c3RyYXAubWluLmNzcyIvPgogICAgPGxpbmsgcmVsPSJzdHlsZXNoZWV0IiBocmVmPSJodHRwczovL21heGNkbi5ib290c3RyYXBjZG4uY29tL2Jvb3RzdHJhcC8zLjIuMC9jc3MvYm9vdHN0cmFwLXRoZW1lLm1pbi5jc3MiLz4KICAgIDxsaW5rIHJlbD0ic3R5bGVzaGVldCIgaHJlZj0iaHR0cHM6Ly9tYXhjZG4uYm9vdHN0cmFwY2RuLmNvbS9mb250LWF3ZXNvbWUvNC42LjMvY3NzL2ZvbnQtYXdlc29tZS5taW4uY3NzIi8+CiAgICA8bGluayByZWw9InN0eWxlc2hlZXQiIGhyZWY9Imh0dHBzOi8vY2RuanMuY2xvdWRmbGFyZS5jb20vYWpheC9saWJzL0xlYWZsZXQuYXdlc29tZS1tYXJrZXJzLzIuMC4yL2xlYWZsZXQuYXdlc29tZS1tYXJrZXJzLmNzcyIvPgogICAgPGxpbmsgcmVsPSJzdHlsZXNoZWV0IiBocmVmPSJodHRwczovL3Jhd2Nkbi5naXRoYWNrLmNvbS9weXRob24tdmlzdWFsaXphdGlvbi9mb2xpdW0vbWFzdGVyL2ZvbGl1bS90ZW1wbGF0ZXMvbGVhZmxldC5hd2Vzb21lLnJvdGF0ZS5jc3MiLz4KICAgIDxzdHlsZT5odG1sLCBib2R5IHt3aWR0aDogMTAwJTtoZWlnaHQ6IDEwMCU7bWFyZ2luOiAwO3BhZGRpbmc6IDA7fTwvc3R5bGU+CiAgICA8c3R5bGU+I21hcCB7cG9zaXRpb246YWJzb2x1dGU7dG9wOjA7Ym90dG9tOjA7cmlnaHQ6MDtsZWZ0OjA7fTwvc3R5bGU+CiAgICAKICAgICAgICAgICAgPG1ldGEgbmFtZT0idmlld3BvcnQiIGNvbnRlbnQ9IndpZHRoPWRldmljZS13aWR0aCwKICAgICAgICAgICAgICAgIGluaXRpYWwtc2NhbGU9MS4wLCBtYXhpbXVtLXNjYWxlPTEuMCwgdXNlci1zY2FsYWJsZT1ubyIgLz4KICAgICAgICAgICAgPHN0eWxlPgogICAgICAgICAgICAgICAgI21hcF9jYWQwYWZhNjUzNTk0MTc3ODllNjNjZjVjZWUwYzA3NSB7CiAgICAgICAgICAgICAgICAgICAgcG9zaXRpb246IHJlbGF0aXZlOwogICAgICAgICAgICAgICAgICAgIHdpZHRoOiAxMDAuMCU7CiAgICAgICAgICAgICAgICAgICAgaGVpZ2h0OiAxMDAuMCU7CiAgICAgICAgICAgICAgICAgICAgbGVmdDogMC4wJTsKICAgICAgICAgICAgICAgICAgICB0b3A6IDAuMCU7CiAgICAgICAgICAgICAgICB9CiAgICAgICAgICAgIDwvc3R5bGU+CiAgICAgICAgCjwvaGVhZD4KPGJvZHk+ICAgIAogICAgCiAgICAgICAgICAgIDxkaXYgY2xhc3M9ImZvbGl1bS1tYXAiIGlkPSJtYXBfY2FkMGFmYTY1MzU5NDE3Nzg5ZTYzY2Y1Y2VlMGMwNzUiID48L2Rpdj4KICAgICAgICAKPC9ib2R5Pgo8c2NyaXB0PiAgICAKICAgIAogICAgICAgICAgICB2YXIgbWFwX2NhZDBhZmE2NTM1OTQxNzc4OWU2M2NmNWNlZTBjMDc1ID0gTC5tYXAoCiAgICAgICAgICAgICAgICAibWFwX2NhZDBhZmE2NTM1OTQxNzc4OWU2M2NmNWNlZTBjMDc1IiwKICAgICAgICAgICAgICAgIHsKICAgICAgICAgICAgICAgICAgICBjZW50ZXI6IFstMzAuNSwgLTUzLjVdLAogICAgICAgICAgICAgICAgICAgIGNyczogTC5DUlMuRVBTRzM4NTcsCiAgICAgICAgICAgICAgICAgICAgem9vbTogNywKICAgICAgICAgICAgICAgICAgICB6b29tQ29udHJvbDogdHJ1ZSwKICAgICAgICAgICAgICAgICAgICBwcmVmZXJDYW52YXM6IGZhbHNlLAogICAgICAgICAgICAgICAgfQogICAgICAgICAgICApOwoKICAgICAgICAgICAgCgogICAgICAgIAogICAgCiAgICAgICAgICAgIHZhciB0aWxlX2xheWVyX2E5OTgwMTA0MDQ1NDQ4MDM4MWEyY2UwOGQ5YjU5N2M5ID0gTC50aWxlTGF5ZXIoCiAgICAgICAgICAgICAgICAiaHR0cHM6Ly97c30udGlsZS5vcGVuc3RyZWV0bWFwLm9yZy97en0ve3h9L3t5fS5wbmciLAogICAgICAgICAgICAgICAgeyJhdHRyaWJ1dGlvbiI6ICJEYXRhIGJ5IFx1MDAyNmNvcHk7IFx1MDAzY2EgaHJlZj1cImh0dHA6Ly9vcGVuc3RyZWV0bWFwLm9yZ1wiXHUwMDNlT3BlblN0cmVldE1hcFx1MDAzYy9hXHUwMDNlLCB1bmRlciBcdTAwM2NhIGhyZWY9XCJodHRwOi8vd3d3Lm9wZW5zdHJlZXRtYXAub3JnL2NvcHlyaWdodFwiXHUwMDNlT0RiTFx1MDAzYy9hXHUwMDNlLiIsICJkZXRlY3RSZXRpbmEiOiBmYWxzZSwgIm1heE5hdGl2ZVpvb20iOiAxOCwgIm1heFpvb20iOiAxOCwgIm1pblpvb20iOiAwLCAibm9XcmFwIjogZmFsc2UsICJvcGFjaXR5IjogMSwgInN1YmRvbWFpbnMiOiAiYWJjIiwgInRtcyI6IGZhbHNlfQogICAgICAgICAgICApLmFkZFRvKG1hcF9jYWQwYWZhNjUzNTk0MTc3ODllNjNjZjVjZWUwYzA3NSk7CiAgICAgICAgCiAgICAKICAgICAgICAgICAgdmFyIG1hcmtlcl80YmQ1YmM3YTQyNzM0OTM0OTdmZDBmMTMzYjAxNzVlNCA9IEwubWFya2VyKAogICAgICAgICAgICAgICAgWy0yNy42OTM2LCAtNTIuMDUwNV0sCiAgICAgICAgICAgICAgICB7fQogICAgICAgICAgICApLmFkZFRvKG1hcF9jYWQwYWZhNjUzNTk0MTc3ODllNjNjZjVjZWUwYzA3NSk7CiAgICAgICAgCiAgICAKICAgICAgICAgICAgdmFyIGljb25fMjRlOTlmZmZiZWYxNGM1MDg3NzExMzg3ZTE5MDU2ZjQgPSBMLkF3ZXNvbWVNYXJrZXJzLmljb24oCiAgICAgICAgICAgICAgICB7ImV4dHJhQ2xhc3NlcyI6ICJmYS1yb3RhdGUtMCIsICJpY29uIjogImluZm8tc2lnbiIsICJpY29uQ29sb3IiOiAid2hpdGUiLCAibWFya2VyQ29sb3IiOiAiZ3JlZW4iLCAicHJlZml4IjogImdseXBoaWNvbiJ9CiAgICAgICAgICAgICk7CiAgICAgICAgICAgIG1hcmtlcl80YmQ1YmM3YTQyNzM0OTM0OTdmZDBmMTMzYjAxNzVlNC5zZXRJY29uKGljb25fMjRlOTlmZmZiZWYxNGM1MDg3NzExMzg3ZTE5MDU2ZjQpOwogICAgICAgIAogICAgCiAgICAgICAgdmFyIHBvcHVwXzk1ZDkzZTA5NDIzOTQ1NTc4ZjdlZGIxOWQwOTUwMTgzID0gTC5wb3B1cCh7Im1heFdpZHRoIjogIjEwMCUifSk7CgogICAgICAgIAogICAgICAgICAgICB2YXIgaHRtbF83OWZkNDIzOTk3MDc0YWEyYWYxODQ2NjIyMTMxZWYzNCA9ICQoYDxkaXYgaWQ9Imh0bWxfNzlmZDQyMzk5NzA3NGFhMmFmMTg0NjYyMjEzMWVmMzQiIHN0eWxlPSJ3aWR0aDogMTAwLjAlOyBoZWlnaHQ6IDEwMC4wJTsiPsOBdXJlYTwvZGl2PmApWzBdOwogICAgICAgICAgICBwb3B1cF85NWQ5M2UwOTQyMzk0NTU3OGY3ZWRiMTlkMDk1MDE4My5zZXRDb250ZW50KGh0bWxfNzlmZDQyMzk5NzA3NGFhMmFmMTg0NjYyMjEzMWVmMzQpOwogICAgICAgIAoKICAgICAgICBtYXJrZXJfNGJkNWJjN2E0MjczNDkzNDk3ZmQwZjEzM2IwMTc1ZTQuYmluZFBvcHVwKHBvcHVwXzk1ZDkzZTA5NDIzOTQ1NTc4ZjdlZGIxOWQwOTUwMTgzKQogICAgICAgIDsKCiAgICAgICAgCiAgICAKICAgIAogICAgICAgICAgICB2YXIgbWFya2VyX2I5N2FkMGQ5Yjg1ODQyMTQ5YmVjNjExZTE2MDE1ZWQ0ID0gTC5tYXJrZXIoCiAgICAgICAgICAgICAgICBbLTI5LjM1NDM5OTk5OTk5LCAtNTEuNjY4N10sCiAgICAgICAgICAgICAgICB7fQogICAgICAgICAgICApLmFkZFRvKG1hcF9jYWQwYWZhNjUzNTk0MTc3ODllNjNjZjVjZWUwYzA3NSk7CiAgICAgICAgCiAgICAKICAgICAgICAgICAgdmFyIGljb25fZmEwNjhmYmZiOWJlNDFhMDk3NWI1NmY4NzQyZWI5Y2UgPSBMLkF3ZXNvbWVNYXJrZXJzLmljb24oCiAgICAgICAgICAgICAgICB7ImV4dHJhQ2xhc3NlcyI6ICJmYS1yb3RhdGUtMCIsICJpY29uIjogImluZm8tc2lnbiIsICJpY29uQ29sb3IiOiAid2hpdGUiLCAibWFya2VyQ29sb3IiOiAiZ3JlZW4iLCAicHJlZml4IjogImdseXBoaWNvbiJ9CiAgICAgICAgICAgICk7CiAgICAgICAgICAgIG1hcmtlcl9iOTdhZDBkOWI4NTg0MjE0OWJlYzYxMWUxNjAxNWVkNC5zZXRJY29uKGljb25fZmEwNjhmYmZiOWJlNDFhMDk3NWI1NmY4NzQyZWI5Y2UpOwogICAgICAgIAogICAgCiAgICAgICAgdmFyIHBvcHVwX2QzMzE1ZmMyN2QwNTRhOTE5NGIxMzJiNjhmODgzNTRhID0gTC5wb3B1cCh7Im1heFdpZHRoIjogIjEwMCUifSk7CgogICAgICAgIAogICAgICAgICAgICB2YXIgaHRtbF84NDlkNmUwN2QyNmY0NmE1YTU2ZGVlYTNhYjk5MTFmMyA9ICQoYDxkaXYgaWQ9Imh0bWxfODQ5ZDZlMDdkMjZmNDZhNWE1NmRlZWEzYWI5OTExZjMiIHN0eWxlPSJ3aWR0aDogMTAwLjAlOyBoZWlnaHQ6IDEwMC4wJTsiPkJvYSBWaXN0YSBkbyBTdWw8L2Rpdj5gKVswXTsKICAgICAgICAgICAgcG9wdXBfZDMzMTVmYzI3ZDA1NGE5MTk0YjEzMmI2OGY4ODM1NGEuc2V0Q29udGVudChodG1sXzg0OWQ2ZTA3ZDI2ZjQ2YTVhNTZkZWVhM2FiOTkxMWYzKTsKICAgICAgICAKCiAgICAgICAgbWFya2VyX2I5N2FkMGQ5Yjg1ODQyMTQ5YmVjNjExZTE2MDE1ZWQ0LmJpbmRQb3B1cChwb3B1cF9kMzMxNWZjMjdkMDU0YTkxOTRiMTMyYjY4Zjg4MzU0YSkKICAgICAgICA7CgogICAgICAgIAogICAgCiAgICAKICAgICAgICAgICAgdmFyIG1hcmtlcl8xNWZiODIzYThlZTg0YWUyYWNmNWNlZWRlNGQwYTE1OSA9IEwubWFya2VyKAogICAgICAgICAgICAgICAgWy0yOC43OTI2LCAtNTEuMDk0MDk5OTk5OTg5OTldLAogICAgICAgICAgICAgICAge30KICAgICAgICAgICAgKS5hZGRUbyhtYXBfY2FkMGFmYTY1MzU5NDE3Nzg5ZTYzY2Y1Y2VlMGMwNzUpOwogICAgICAgIAogICAgCiAgICAgICAgICAgIHZhciBpY29uXzYwOWRkYzJmYjE0YjRhMzBhZWM0Yzc0MDVhZmQ3MzY2ID0gTC5Bd2Vzb21lTWFya2Vycy5pY29uKAogICAgICAgICAgICAgICAgeyJleHRyYUNsYXNzZXMiOiAiZmEtcm90YXRlLTAiLCAiaWNvbiI6ICJpbmZvLXNpZ24iLCAiaWNvbkNvbG9yIjogIndoaXRlIiwgIm1hcmtlckNvbG9yIjogImdyZWVuIiwgInByZWZpeCI6ICJnbHlwaGljb24ifQogICAgICAgICAgICApOwogICAgICAgICAgICBtYXJrZXJfMTVmYjgyM2E4ZWU4NGFlMmFjZjVjZWVkZTRkMGExNTkuc2V0SWNvbihpY29uXzYwOWRkYzJmYjE0YjRhMzBhZWM0Yzc0MDVhZmQ3MzY2KTsKICAgICAgICAKICAgIAogICAgICAgIHZhciBwb3B1cF9mYmU4MDNjNDFlMTY0MzBkYmJjZmQ0OTFlZTEzNjRhYyA9IEwucG9wdXAoeyJtYXhXaWR0aCI6ICIxMDAlIn0pOwoKICAgICAgICAKICAgICAgICAgICAgdmFyIGh0bWxfMzI3MzZjYTgzMmU4NDA4MmEwMDQzODdiZjNlNzlmN2QgPSAkKGA8ZGl2IGlkPSJodG1sXzMyNzM2Y2E4MzJlODQwODJhMDA0Mzg3YmYzZTc5ZjdkIiBzdHlsZT0id2lkdGg6IDEwMC4wJTsgaGVpZ2h0OiAxMDAuMCU7Ij5DYW1wZXN0cmUgZGEgU2VycmE8L2Rpdj5gKVswXTsKICAgICAgICAgICAgcG9wdXBfZmJlODAzYzQxZTE2NDMwZGJiY2ZkNDkxZWUxMzY0YWMuc2V0Q29udGVudChodG1sXzMyNzM2Y2E4MzJlODQwODJhMDA0Mzg3YmYzZTc5ZjdkKTsKICAgICAgICAKCiAgICAgICAgbWFya2VyXzE1ZmI4MjNhOGVlODRhZTJhY2Y1Y2VlZGU0ZDBhMTU5LmJpbmRQb3B1cChwb3B1cF9mYmU4MDNjNDFlMTY0MzBkYmJjZmQ0OTFlZTEzNjRhYykKICAgICAgICA7CgogICAgICAgIAogICAgCiAgICAKICAgICAgICAgICAgdmFyIG1hcmtlcl9kNGU5OGI4ZDc0NzY0YmEzOGNjMThmMTExYjAzYTIyOSA9IEwubWFya2VyKAogICAgICAgICAgICAgICAgWy0yNy45ODg4LCAtNTQuODQxN10sCiAgICAgICAgICAgICAgICB7fQogICAgICAgICAgICApLmFkZFRvKG1hcF9jYWQwYWZhNjUzNTk0MTc3ODllNjNjZjVjZWUwYzA3NSk7CiAgICAgICAgCiAgICAKICAgICAgICAgICAgdmFyIGljb25fZTFkZmFhN2EzODgzNDNmY2JiYmIxNWFkNmI5Mjk5YmMgPSBMLkF3ZXNvbWVNYXJrZXJzLmljb24oCiAgICAgICAgICAgICAgICB7ImV4dHJhQ2xhc3NlcyI6ICJmYS1yb3RhdGUtMCIsICJpY29uIjogImluZm8tc2lnbiIsICJpY29uQ29sb3IiOiAid2hpdGUiLCAibWFya2VyQ29sb3IiOiAiZ3JlZW4iLCAicHJlZml4IjogImdseXBoaWNvbiJ9CiAgICAgICAgICAgICk7CiAgICAgICAgICAgIG1hcmtlcl9kNGU5OGI4ZDc0NzY0YmEzOGNjMThmMTExYjAzYTIyOS5zZXRJY29uKGljb25fZTFkZmFhN2EzODgzNDNmY2JiYmIxNWFkNmI5Mjk5YmMpOwogICAgICAgIAogICAgCiAgICAgICAgdmFyIHBvcHVwX2MxYTliNTcxMGI5ODRkMjhiY2I1NjFlNDBiYWFjOTljID0gTC5wb3B1cCh7Im1heFdpZHRoIjogIjEwMCUifSk7CgogICAgICAgIAogICAgICAgICAgICB2YXIgaHRtbF9iZjhiMDIzYzZlZTc0ZGI4ODU1ZjQ1MjM0NGM5NTQ0OSA9ICQoYDxkaXYgaWQ9Imh0bWxfYmY4YjAyM2M2ZWU3NGRiODg1NWY0NTIzNDRjOTU0NDkiIHN0eWxlPSJ3aWR0aDogMTAwLjAlOyBoZWlnaHQ6IDEwMC4wJTsiPkNhbXBpbmEgZGFzIE1pc3PDtWVzPC9kaXY+YClbMF07CiAgICAgICAgICAgIHBvcHVwX2MxYTliNTcxMGI5ODRkMjhiY2I1NjFlNDBiYWFjOTljLnNldENvbnRlbnQoaHRtbF9iZjhiMDIzYzZlZTc0ZGI4ODU1ZjQ1MjM0NGM5NTQ0OSk7CiAgICAgICAgCgogICAgICAgIG1hcmtlcl9kNGU5OGI4ZDc0NzY0YmEzOGNjMThmMTExYjAzYTIyOS5iaW5kUG9wdXAocG9wdXBfYzFhOWI1NzEwYjk4NGQyOGJjYjU2MWU0MGJhYWM5OWMpCiAgICAgICAgOwoKICAgICAgICAKICAgIAogICAgCiAgICAgICAgICAgIHZhciBtYXJrZXJfODc0YjExNjNiZDBhNDQzN2IwMDFhMjBkMjM1MmJjMTEgPSBMLm1hcmtlcigKICAgICAgICAgICAgICAgIFstMjguOTg5MSwgLTUxLjY5NzA5OTk5OTk4OTk5NV0sCiAgICAgICAgICAgICAgICB7fQogICAgICAgICAgICApLmFkZFRvKG1hcF9jYWQwYWZhNjUzNTk0MTc3ODllNjNjZjVjZWUwYzA3NSk7CiAgICAgICAgCiAgICAKICAgICAgICAgICAgdmFyIGljb25fODAxNjM4ZWZlYjM3NDI2ZGI1NTkxZWQ2ZDkyM2E2Y2YgPSBMLkF3ZXNvbWVNYXJrZXJzLmljb24oCiAgICAgICAgICAgICAgICB7ImV4dHJhQ2xhc3NlcyI6ICJmYS1yb3RhdGUtMCIsICJpY29uIjogImluZm8tc2lnbiIsICJpY29uQ29sb3IiOiAid2hpdGUiLCAibWFya2VyQ29sb3IiOiAiZ3JlZW4iLCAicHJlZml4IjogImdseXBoaWNvbiJ9CiAgICAgICAgICAgICk7CiAgICAgICAgICAgIG1hcmtlcl84NzRiMTE2M2JkMGE0NDM3YjAwMWEyMGQyMzUyYmMxMS5zZXRJY29uKGljb25fODAxNjM4ZWZlYjM3NDI2ZGI1NTkxZWQ2ZDkyM2E2Y2YpOwogICAgICAgIAogICAgCiAgICAgICAgdmFyIHBvcHVwXzdmMjFhYTk1YThiNDQxYzVhNGE4YTkyY2M2YjczZGFkID0gTC5wb3B1cCh7Im1heFdpZHRoIjogIjEwMCUifSk7CgogICAgICAgIAogICAgICAgICAgICB2YXIgaHRtbF85YWY3YzI5MDZhMjE0YjIzOGUwMzg1YmI2ZWRiYTZiNSA9ICQoYDxkaXYgaWQ9Imh0bWxfOWFmN2MyOTA2YTIxNGIyMzhlMDM4NWJiNmVkYmE2YjUiIHN0eWxlPSJ3aWR0aDogMTAwLjAlOyBoZWlnaHQ6IDEwMC4wJTsiPkNvdGlwb3LDozwvZGl2PmApWzBdOwogICAgICAgICAgICBwb3B1cF83ZjIxYWE5NWE4YjQ0MWM1YTRhOGE5MmNjNmI3M2RhZC5zZXRDb250ZW50KGh0bWxfOWFmN2MyOTA2YTIxNGIyMzhlMDM4NWJiNmVkYmE2YjUpOwogICAgICAgIAoKICAgICAgICBtYXJrZXJfODc0YjExNjNiZDBhNDQzN2IwMDFhMjBkMjM1MmJjMTEuYmluZFBvcHVwKHBvcHVwXzdmMjFhYTk1YThiNDQxYzVhNGE4YTkyY2M2YjczZGFkKQogICAgICAgIDsKCiAgICAgICAgCiAgICAKICAgIAogICAgICAgICAgICB2YXIgbWFya2VyX2QyZGRmZjkwNDA3YjQyNzI5NzlhNDQ4YWEzMTc4ZjA4ID0gTC5tYXJrZXIoCiAgICAgICAgICAgICAgICBbLTI3LjI2NDE5OTk5OTk5LCAtNTMuODY0NV0sCiAgICAgICAgICAgICAgICB7fQogICAgICAgICAgICApLmFkZFRvKG1hcF9jYWQwYWZhNjUzNTk0MTc3ODllNjNjZjVjZWUwYzA3NSk7CiAgICAgICAgCiAgICAKICAgICAgICAgICAgdmFyIGljb25fMDQ5NDEwMjhmYTI1NGY5Mzg1MmNhNzM2MDcwMmQ4NTggPSBMLkF3ZXNvbWVNYXJrZXJzLmljb24oCiAgICAgICAgICAgICAgICB7ImV4dHJhQ2xhc3NlcyI6ICJmYS1yb3RhdGUtMCIsICJpY29uIjogImluZm8tc2lnbiIsICJpY29uQ29sb3IiOiAid2hpdGUiLCAibWFya2VyQ29sb3IiOiAiZ3JlZW4iLCAicHJlZml4IjogImdseXBoaWNvbiJ9CiAgICAgICAgICAgICk7CiAgICAgICAgICAgIG1hcmtlcl9kMmRkZmY5MDQwN2I0MjcyOTc5YTQ0OGFhMzE3OGYwOC5zZXRJY29uKGljb25fMDQ5NDEwMjhmYTI1NGY5Mzg1MmNhNzM2MDcwMmQ4NTgpOwogICAgICAgIAogICAgCiAgICAgICAgdmFyIHBvcHVwXzIyNmMzODI5ZjQ2YzQ2NTNhODNiNTQ1MjgzM2ZhODU1ID0gTC5wb3B1cCh7Im1heFdpZHRoIjogIjEwMCUifSk7CgogICAgICAgIAogICAgICAgICAgICB2YXIgaHRtbF85MGZmMGNkOThiZTI0OWNhYjY5MTYwM2Y4NTQxYjE5MSA9ICQoYDxkaXYgaWQ9Imh0bWxfOTBmZjBjZDk4YmUyNDljYWI2OTE2MDNmODU0MWIxOTEiIHN0eWxlPSJ3aWR0aDogMTAwLjAlOyBoZWlnaHQ6IDEwMC4wJTsiPkRlcnJ1YmFkYXM8L2Rpdj5gKVswXTsKICAgICAgICAgICAgcG9wdXBfMjI2YzM4MjlmNDZjNDY1M2E4M2I1NDUyODMzZmE4NTUuc2V0Q29udGVudChodG1sXzkwZmYwY2Q5OGJlMjQ5Y2FiNjkxNjAzZjg1NDFiMTkxKTsKICAgICAgICAKCiAgICAgICAgbWFya2VyX2QyZGRmZjkwNDA3YjQyNzI5NzlhNDQ4YWEzMTc4ZjA4LmJpbmRQb3B1cChwb3B1cF8yMjZjMzgyOWY0NmM0NjUzYTgzYjU0NTI4MzNmYTg1NSkKICAgICAgICA7CgogICAgICAgIAogICAgCiAgICAKICAgICAgICAgICAgdmFyIG1hcmtlcl9kZTMxOGVlMDdhMzE0NDNjODE0MTMzZDA2OGNjYzQ4YyA9IEwubWFya2VyKAogICAgICAgICAgICAgICAgWy0yOC45ODMsIC01MS44Mzk1OTk5OTk5ODk5OV0sCiAgICAgICAgICAgICAgICB7fQogICAgICAgICAgICApLmFkZFRvKG1hcF9jYWQwYWZhNjUzNTk0MTc3ODllNjNjZjVjZWUwYzA3NSk7CiAgICAgICAgCiAgICAKICAgICAgICAgICAgdmFyIGljb25fYjk2ODYyZGYwYjMwNDE4Yjg5ZjM4OWM0MjBkMzBjN2QgPSBMLkF3ZXNvbWVNYXJrZXJzLmljb24oCiAgICAgICAgICAgICAgICB7ImV4dHJhQ2xhc3NlcyI6ICJmYS1yb3RhdGUtMCIsICJpY29uIjogImluZm8tc2lnbiIsICJpY29uQ29sb3IiOiAid2hpdGUiLCAibWFya2VyQ29sb3IiOiAiZ3JlZW4iLCAicHJlZml4IjogImdseXBoaWNvbiJ9CiAgICAgICAgICAgICk7CiAgICAgICAgICAgIG1hcmtlcl9kZTMxOGVlMDdhMzE0NDNjODE0MTMzZDA2OGNjYzQ4Yy5zZXRJY29uKGljb25fYjk2ODYyZGYwYjMwNDE4Yjg5ZjM4OWM0MjBkMzBjN2QpOwogICAgICAgIAogICAgCiAgICAgICAgdmFyIHBvcHVwX2MzYmMyYzBlOGUzZjQwMjlhYzZhZDlkNDBlMTA1OGJlID0gTC5wb3B1cCh7Im1heFdpZHRoIjogIjEwMCUifSk7CgogICAgICAgIAogICAgICAgICAgICB2YXIgaHRtbF85NzkzNzRmYmY1ZTk0YjdkYjI2MDM0NDAwNjk4NGUwNSA9ICQoYDxkaXYgaWQ9Imh0bWxfOTc5Mzc0ZmJmNWU5NGI3ZGIyNjAzNDQwMDY5ODRlMDUiIHN0eWxlPSJ3aWR0aDogMTAwLjAlOyBoZWlnaHQ6IDEwMC4wJTsiPkRvaXMgTGFqZWFkb3M8L2Rpdj5gKVswXTsKICAgICAgICAgICAgcG9wdXBfYzNiYzJjMGU4ZTNmNDAyOWFjNmFkOWQ0MGUxMDU4YmUuc2V0Q29udGVudChodG1sXzk3OTM3NGZiZjVlOTRiN2RiMjYwMzQ0MDA2OTg0ZTA1KTsKICAgICAgICAKCiAgICAgICAgbWFya2VyX2RlMzE4ZWUwN2EzMTQ0M2M4MTQxMzNkMDY4Y2NjNDhjLmJpbmRQb3B1cChwb3B1cF9jM2JjMmMwZThlM2Y0MDI5YWM2YWQ5ZDQwZTEwNThiZSkKICAgICAgICA7CgogICAgICAgIAogICAgCiAgICAKICAgICAgICAgICAgdmFyIG1hcmtlcl9mYzFkMjkyNDg2M2Q0MGI3OWI1N2E3YzZkOGYxMTQwMCA9IEwubWFya2VyKAogICAgICAgICAgICAgICAgWy0yOS40Njc5LCAtNTEuMjAwMjk5OTk5OTg5OTk0XSwKICAgICAgICAgICAgICAgIHt9CiAgICAgICAgICAgICkuYWRkVG8obWFwX2NhZDBhZmE2NTM1OTQxNzc4OWU2M2NmNWNlZTBjMDc1KTsKICAgICAgICAKICAgIAogICAgICAgICAgICB2YXIgaWNvbl9kOTg5YzM1M2JlMzM0ODYwOGRkN2IzMTdiODdkZDAwMCA9IEwuQXdlc29tZU1hcmtlcnMuaWNvbigKICAgICAgICAgICAgICAgIHsiZXh0cmFDbGFzc2VzIjogImZhLXJvdGF0ZS0wIiwgImljb24iOiAiaW5mby1zaWduIiwgImljb25Db2xvciI6ICJ3aGl0ZSIsICJtYXJrZXJDb2xvciI6ICJncmVlbiIsICJwcmVmaXgiOiAiZ2x5cGhpY29uIn0KICAgICAgICAgICAgKTsKICAgICAgICAgICAgbWFya2VyX2ZjMWQyOTI0ODYzZDQwYjc5YjU3YTdjNmQ4ZjExNDAwLnNldEljb24oaWNvbl9kOTg5YzM1M2JlMzM0ODYwOGRkN2IzMTdiODdkZDAwMCk7CiAgICAgICAgCiAgICAKICAgICAgICB2YXIgcG9wdXBfNTc5YmY5ZDMwNDNhNGFkOGIwNjEwZjA3OGVlY2Q2ZjMgPSBMLnBvcHVwKHsibWF4V2lkdGgiOiAiMTAwJSJ9KTsKCiAgICAgICAgCiAgICAgICAgICAgIHZhciBodG1sXzA4ODExNDU3ZTA3OTQ1YzY5ZWJmNzc0NmM5NTI3M2Q5ID0gJChgPGRpdiBpZD0iaHRtbF8wODgxMTQ1N2UwNzk0NWM2OWViZjc3NDZjOTUyNzNkOSIgc3R5bGU9IndpZHRoOiAxMDAuMCU7IGhlaWdodDogMTAwLjAlOyI+TGluaGEgTm92YTwvZGl2PmApWzBdOwogICAgICAgICAgICBwb3B1cF81NzliZjlkMzA0M2E0YWQ4YjA2MTBmMDc4ZWVjZDZmMy5zZXRDb250ZW50KGh0bWxfMDg4MTE0NTdlMDc5NDVjNjllYmY3NzQ2Yzk1MjczZDkpOwogICAgICAgIAoKICAgICAgICBtYXJrZXJfZmMxZDI5MjQ4NjNkNDBiNzliNTdhN2M2ZDhmMTE0MDAuYmluZFBvcHVwKHBvcHVwXzU3OWJmOWQzMDQzYTRhZDhiMDYxMGYwNzhlZWNkNmYzKQogICAgICAgIDsKCiAgICAgICAgCiAgICAKICAgIAogICAgICAgICAgICB2YXIgbWFya2VyXzBhMmQyZmYyYzQ1YzRlZjU4MjYxNWQ2OWMwMjNlZTJjID0gTC5tYXJrZXIoCiAgICAgICAgICAgICAgICBbLTI4LjUyOTgsIC01Mi40Njc1OTk5OTk5ODk5OV0sCiAgICAgICAgICAgICAgICB7fQogICAgICAgICAgICApLmFkZFRvKG1hcF9jYWQwYWZhNjUzNTk0MTc3ODllNjNjZjVjZWUwYzA3NSk7CiAgICAgICAgCiAgICAKICAgICAgICAgICAgdmFyIGljb25fN2UxNzU3OWI3ZThhNDlkZWE0MjRlNmIzYTU0MjRhMzMgPSBMLkF3ZXNvbWVNYXJrZXJzLmljb24oCiAgICAgICAgICAgICAgICB7ImV4dHJhQ2xhc3NlcyI6ICJmYS1yb3RhdGUtMCIsICJpY29uIjogImluZm8tc2lnbiIsICJpY29uQ29sb3IiOiAid2hpdGUiLCAibWFya2VyQ29sb3IiOiAiZ3JlZW4iLCAicHJlZml4IjogImdseXBoaWNvbiJ9CiAgICAgICAgICAgICk7CiAgICAgICAgICAgIG1hcmtlcl8wYTJkMmZmMmM0NWM0ZWY1ODI2MTVkNjljMDIzZWUyYy5zZXRJY29uKGljb25fN2UxNzU3OWI3ZThhNDlkZWE0MjRlNmIzYTU0MjRhMzMpOwogICAgICAgIAogICAgCiAgICAgICAgdmFyIHBvcHVwXzcyOWQ3ZmYzYzhkMjRlZjFhYjM5ZjdmMzI3YjUwOTkwID0gTC5wb3B1cCh7Im1heFdpZHRoIjogIjEwMCUifSk7CgogICAgICAgIAogICAgICAgICAgICB2YXIgaHRtbF8xYWY2ZmJkN2E1YWM0YWQyYjhlNWEzZDcwZWFlZmE4MSA9ICQoYDxkaXYgaWQ9Imh0bWxfMWFmNmZiZDdhNWFjNGFkMmI4ZTVhM2Q3MGVhZWZhODEiIHN0eWxlPSJ3aWR0aDogMTAwLjAlOyBoZWlnaHQ6IDEwMC4wJTsiPk5pY29sYXUgVmVyZ3VlaXJvPC9kaXY+YClbMF07CiAgICAgICAgICAgIHBvcHVwXzcyOWQ3ZmYzYzhkMjRlZjFhYjM5ZjdmMzI3YjUwOTkwLnNldENvbnRlbnQoaHRtbF8xYWY2ZmJkN2E1YWM0YWQyYjhlNWEzZDcwZWFlZmE4MSk7CiAgICAgICAgCgogICAgICAgIG1hcmtlcl8wYTJkMmZmMmM0NWM0ZWY1ODI2MTVkNjljMDIzZWUyYy5iaW5kUG9wdXAocG9wdXBfNzI5ZDdmZjNjOGQyNGVmMWFiMzlmN2YzMjdiNTA5OTApCiAgICAgICAgOwoKICAgICAgICAKICAgIAogICAgCiAgICAgICAgICAgIHZhciBtYXJrZXJfOGFiNjI0OTkxMTFiNGQxZTliODQwNDM1MDAyYjA1MjIgPSBMLm1hcmtlcigKICAgICAgICAgICAgICAgIFstMjkuMjE4MiwgLTUyLjAzMTldLAogICAgICAgICAgICAgICAge30KICAgICAgICAgICAgKS5hZGRUbyhtYXBfY2FkMGFmYTY1MzU5NDE3Nzg5ZTYzY2Y1Y2VlMGMwNzUpOwogICAgICAgIAogICAgCiAgICAgICAgICAgIHZhciBpY29uXzc3OWRiZmRjNWZhMDQ4N2FiZDk2OTkzZTE3NzhmYjcwID0gTC5Bd2Vzb21lTWFya2Vycy5pY29uKAogICAgICAgICAgICAgICAgeyJleHRyYUNsYXNzZXMiOiAiZmEtcm90YXRlLTAiLCAiaWNvbiI6ICJpbmZvLXNpZ24iLCAiaWNvbkNvbG9yIjogIndoaXRlIiwgIm1hcmtlckNvbG9yIjogImdyZWVuIiwgInByZWZpeCI6ICJnbHlwaGljb24ifQogICAgICAgICAgICApOwogICAgICAgICAgICBtYXJrZXJfOGFiNjI0OTkxMTFiNGQxZTliODQwNDM1MDAyYjA1MjIuc2V0SWNvbihpY29uXzc3OWRiZmRjNWZhMDQ4N2FiZDk2OTkzZTE3NzhmYjcwKTsKICAgICAgICAKICAgIAogICAgICAgIHZhciBwb3B1cF82NDA1MDY1NDdhZTU0NGM4YjZmNjA2ODUzMjRjNzgyMyA9IEwucG9wdXAoeyJtYXhXaWR0aCI6ICIxMDAlIn0pOwoKICAgICAgICAKICAgICAgICAgICAgdmFyIGh0bWxfNDg1MTcxZDhiNzZiNGM5YWI2YjY3MGU2OGQ2Zjc3NzEgPSAkKGA8ZGl2IGlkPSJodG1sXzQ4NTE3MWQ4Yjc2YjRjOWFiNmI2NzBlNjhkNmY3NzcxIiBzdHlsZT0id2lkdGg6IDEwMC4wJTsgaGVpZ2h0OiAxMDAuMCU7Ij5Ob3ZhIEJyw6lzY2lhPC9kaXY+YClbMF07CiAgICAgICAgICAgIHBvcHVwXzY0MDUwNjU0N2FlNTQ0YzhiNmY2MDY4NTMyNGM3ODIzLnNldENvbnRlbnQoaHRtbF80ODUxNzFkOGI3NmI0YzlhYjZiNjcwZTY4ZDZmNzc3MSk7CiAgICAgICAgCgogICAgICAgIG1hcmtlcl84YWI2MjQ5OTExMWI0ZDFlOWI4NDA0MzUwMDJiMDUyMi5iaW5kUG9wdXAocG9wdXBfNjQwNTA2NTQ3YWU1NDRjOGI2ZjYwNjg1MzI0Yzc4MjMpCiAgICAgICAgOwoKICAgICAgICAKICAgIAogICAgCiAgICAgICAgICAgIHZhciBtYXJrZXJfNjBhYTQ1NzVkYzkxNDZiZjkwNzk4ODMyNjI2OGZhMmYgPSBMLm1hcmtlcigKICAgICAgICAgICAgICAgIFstMjkuMTczOCwgLTUyLjIxMzZdLAogICAgICAgICAgICAgICAge30KICAgICAgICAgICAgKS5hZGRUbyhtYXBfY2FkMGFmYTY1MzU5NDE3Nzg5ZTYzY2Y1Y2VlMGMwNzUpOwogICAgICAgIAogICAgCiAgICAgICAgICAgIHZhciBpY29uXzMzMTQ1YjY0YmNlZTRiODE4YmEwZTY3ZjU3YzViMzJhID0gTC5Bd2Vzb21lTWFya2Vycy5pY29uKAogICAgICAgICAgICAgICAgeyJleHRyYUNsYXNzZXMiOiAiZmEtcm90YXRlLTAiLCAiaWNvbiI6ICJpbmZvLXNpZ24iLCAiaWNvbkNvbG9yIjogIndoaXRlIiwgIm1hcmtlckNvbG9yIjogImdyZWVuIiwgInByZWZpeCI6ICJnbHlwaGljb24ifQogICAgICAgICAgICApOwogICAgICAgICAgICBtYXJrZXJfNjBhYTQ1NzVkYzkxNDZiZjkwNzk4ODMyNjI2OGZhMmYuc2V0SWNvbihpY29uXzMzMTQ1YjY0YmNlZTRiODE4YmEwZTY3ZjU3YzViMzJhKTsKICAgICAgICAKICAgIAogICAgICAgIHZhciBwb3B1cF8yZTZjYjJkYWFmN2Q0OGI2OTI3NWZjZTM1OWMwNWY2NCA9IEwucG9wdXAoeyJtYXhXaWR0aCI6ICIxMDAlIn0pOwoKICAgICAgICAKICAgICAgICAgICAgdmFyIGh0bWxfNzlmZjMyOTVjZWY3NDAwMTk5MzkzMTVkNjUzZjY4OGIgPSAkKGA8ZGl2IGlkPSJodG1sXzc5ZmYzMjk1Y2VmNzQwMDE5OTM5MzE1ZDY1M2Y2ODhiIiBzdHlsZT0id2lkdGg6IDEwMC4wJTsgaGVpZ2h0OiAxMDAuMCU7Ij5Qb3VzbyBOb3ZvPC9kaXY+YClbMF07CiAgICAgICAgICAgIHBvcHVwXzJlNmNiMmRhYWY3ZDQ4YjY5Mjc1ZmNlMzU5YzA1ZjY0LnNldENvbnRlbnQoaHRtbF83OWZmMzI5NWNlZjc0MDAxOTkzOTMxNWQ2NTNmNjg4Yik7CiAgICAgICAgCgogICAgICAgIG1hcmtlcl82MGFhNDU3NWRjOTE0NmJmOTA3OTg4MzI2MjY4ZmEyZi5iaW5kUG9wdXAocG9wdXBfMmU2Y2IyZGFhZjdkNDhiNjkyNzVmY2UzNTljMDVmNjQpCiAgICAgICAgOwoKICAgICAgICAKICAgIAogICAgCiAgICAgICAgICAgIHZhciBtYXJrZXJfYjU4ZGM5YmQ1NDFjNDA1MDljMDhiZTNlODUzYzA5ZWEgPSBMLm1hcmtlcigKICAgICAgICAgICAgICAgIFstMjguMTIzMywgLTU0LjgzNzI5OTk5OTk4OTk5NV0sCiAgICAgICAgICAgICAgICB7fQogICAgICAgICAgICApLmFkZFRvKG1hcF9jYWQwYWZhNjUzNTk0MTc3ODllNjNjZjVjZWUwYzA3NSk7CiAgICAgICAgCiAgICAKICAgICAgICAgICAgdmFyIGljb25fZDZjYTM2ZTc3NGFjNGIwODk0MzA1MzkxNmFhMTIzM2YgPSBMLkF3ZXNvbWVNYXJrZXJzLmljb24oCiAgICAgICAgICAgICAgICB7ImV4dHJhQ2xhc3NlcyI6ICJmYS1yb3RhdGUtMCIsICJpY29uIjogImluZm8tc2lnbiIsICJpY29uQ29sb3IiOiAid2hpdGUiLCAibWFya2VyQ29sb3IiOiAiZ3JlZW4iLCAicHJlZml4IjogImdseXBoaWNvbiJ9CiAgICAgICAgICAgICk7CiAgICAgICAgICAgIG1hcmtlcl9iNThkYzliZDU0MWM0MDUwOWMwOGJlM2U4NTNjMDllYS5zZXRJY29uKGljb25fZDZjYTM2ZTc3NGFjNGIwODk0MzA1MzkxNmFhMTIzM2YpOwogICAgICAgIAogICAgCiAgICAgICAgdmFyIHBvcHVwXzg3NzE0NTExYTU2YzRhMDU4M2Q0NGYyNTdiY2Q2ZWEwID0gTC5wb3B1cCh7Im1heFdpZHRoIjogIjEwMCUifSk7CgogICAgICAgIAogICAgICAgICAgICB2YXIgaHRtbF83YjRkMmQzMzQ1NjY0YWFiYTZlMWI4ODAwYTczZTI4MiA9ICQoYDxkaXYgaWQ9Imh0bWxfN2I0ZDJkMzM0NTY2NGFhYmE2ZTFiODgwMGE3M2UyODIiIHN0eWxlPSJ3aWR0aDogMTAwLjAlOyBoZWlnaHQ6IDEwMC4wJTsiPlNhbHZhZG9yIGRhcyBNaXNzw7VlczwvZGl2PmApWzBdOwogICAgICAgICAgICBwb3B1cF84NzcxNDUxMWE1NmM0YTA1ODNkNDRmMjU3YmNkNmVhMC5zZXRDb250ZW50KGh0bWxfN2I0ZDJkMzM0NTY2NGFhYmE2ZTFiODgwMGE3M2UyODIpOwogICAgICAgIAoKICAgICAgICBtYXJrZXJfYjU4ZGM5YmQ1NDFjNDA1MDljMDhiZTNlODUzYzA5ZWEuYmluZFBvcHVwKHBvcHVwXzg3NzE0NTExYTU2YzRhMDU4M2Q0NGYyNTdiY2Q2ZWEwKQogICAgICAgIDsKCiAgICAgICAgCiAgICAKICAgIAogICAgICAgICAgICB2YXIgbWFya2VyXzEzN2EzNTllOGMyZTRmNmNiMTVhMzUzZDgxODQ4Y2Y1ID0gTC5tYXJrZXIoCiAgICAgICAgICAgICAgICBbLTI4LjQ5NTYsIC01Mi4wMjY2OTk5OTk5ODk5OTRdLAogICAgICAgICAgICAgICAge30KICAgICAgICAgICAgKS5hZGRUbyhtYXBfY2FkMGFmYTY1MzU5NDE3Nzg5ZTYzY2Y1Y2VlMGMwNzUpOwogICAgICAgIAogICAgCiAgICAgICAgICAgIHZhciBpY29uXzZkOTY3N2M1ZmIxZDRhZTVhMDZjZTU4NDBlYzE4Y2UzID0gTC5Bd2Vzb21lTWFya2Vycy5pY29uKAogICAgICAgICAgICAgICAgeyJleHRyYUNsYXNzZXMiOiAiZmEtcm90YXRlLTAiLCAiaWNvbiI6ICJpbmZvLXNpZ24iLCAiaWNvbkNvbG9yIjogIndoaXRlIiwgIm1hcmtlckNvbG9yIjogImdyZWVuIiwgInByZWZpeCI6ICJnbHlwaGljb24ifQogICAgICAgICAgICApOwogICAgICAgICAgICBtYXJrZXJfMTM3YTM1OWU4YzJlNGY2Y2IxNWEzNTNkODE4NDhjZjUuc2V0SWNvbihpY29uXzZkOTY3N2M1ZmIxZDRhZTVhMDZjZTU4NDBlYzE4Y2UzKTsKICAgICAgICAKICAgIAogICAgICAgIHZhciBwb3B1cF8zYTY0OTJjNmE2MDE0MThlYjZhMTJlMmJkZjYwOTkxYyA9IEwucG9wdXAoeyJtYXhXaWR0aCI6ICIxMDAlIn0pOwoKICAgICAgICAKICAgICAgICAgICAgdmFyIGh0bWxfNGI4MGMxZDBlMTdjNDkwOWE3MjgxYTcxMGE2MTc0NjIgPSAkKGA8ZGl2IGlkPSJodG1sXzRiODBjMWQwZTE3YzQ5MDlhNzI4MWE3MTBhNjE3NDYyIiBzdHlsZT0id2lkdGg6IDEwMC4wJTsgaGVpZ2h0OiAxMDAuMCU7Ij5TYW50byBBbnTDtG5pbyBkbyBQYWxtYTwvZGl2PmApWzBdOwogICAgICAgICAgICBwb3B1cF8zYTY0OTJjNmE2MDE0MThlYjZhMTJlMmJkZjYwOTkxYy5zZXRDb250ZW50KGh0bWxfNGI4MGMxZDBlMTdjNDkwOWE3MjgxYTcxMGE2MTc0NjIpOwogICAgICAgIAoKICAgICAgICBtYXJrZXJfMTM3YTM1OWU4YzJlNGY2Y2IxNWEzNTNkODE4NDhjZjUuYmluZFBvcHVwKHBvcHVwXzNhNjQ5MmM2YTYwMTQxOGViNmExMmUyYmRmNjA5OTFjKQogICAgICAgIDsKCiAgICAgICAgCiAgICAKICAgIAogICAgICAgICAgICB2YXIgbWFya2VyX2QwOTBmMGUwZDIyZTQyMWJhY2ZiNmFkNDU5ODkyODg3ID0gTC5tYXJrZXIoCiAgICAgICAgICAgICAgICBbLTI3LjkwNzM5OTk5OTk5LCAtNTEuNjQzM10sCiAgICAgICAgICAgICAgICB7fQogICAgICAgICAgICApLmFkZFRvKG1hcF9jYWQwYWZhNjUzNTk0MTc3ODllNjNjZjVjZWUwYzA3NSk7CiAgICAgICAgCiAgICAKICAgICAgICAgICAgdmFyIGljb25fMDI2NDZiNzNkN2JjNGRmMzk1YjY5NjRhNjdlMjY3NGQgPSBMLkF3ZXNvbWVNYXJrZXJzLmljb24oCiAgICAgICAgICAgICAgICB7ImV4dHJhQ2xhc3NlcyI6ICJmYS1yb3RhdGUtMCIsICJpY29uIjogImluZm8tc2lnbiIsICJpY29uQ29sb3IiOiAid2hpdGUiLCAibWFya2VyQ29sb3IiOiAiZ3JlZW4iLCAicHJlZml4IjogImdseXBoaWNvbiJ9CiAgICAgICAgICAgICk7CiAgICAgICAgICAgIG1hcmtlcl9kMDkwZjBlMGQyMmU0MjFiYWNmYjZhZDQ1OTg5Mjg4Ny5zZXRJY29uKGljb25fMDI2NDZiNzNkN2JjNGRmMzk1YjY5NjRhNjdlMjY3NGQpOwogICAgICAgIAogICAgCiAgICAgICAgdmFyIHBvcHVwXzBkYTcyYzY1YjEwODRkMzRiMDg1ZGFmMGZkNDhhMTkwID0gTC5wb3B1cCh7Im1heFdpZHRoIjogIjEwMCUifSk7CgogICAgICAgIAogICAgICAgICAgICB2YXIgaHRtbF9iMDA0ZjBiMjU4MDk0NDZkYjM5NGRlYTFmM2IwNWU1NSA9ICQoYDxkaXYgaWQ9Imh0bWxfYjAwNGYwYjI1ODA5NDQ2ZGIzOTRkZWExZjNiMDVlNTUiIHN0eWxlPSJ3aWR0aDogMTAwLjAlOyBoZWlnaHQ6IDEwMC4wJTsiPlNhbnRvIEV4cGVkaXRvIGRvIFN1bDwvZGl2PmApWzBdOwogICAgICAgICAgICBwb3B1cF8wZGE3MmM2NWIxMDg0ZDM0YjA4NWRhZjBmZDQ4YTE5MC5zZXRDb250ZW50KGh0bWxfYjAwNGYwYjI1ODA5NDQ2ZGIzOTRkZWExZjNiMDVlNTUpOwogICAgICAgIAoKICAgICAgICBtYXJrZXJfZDA5MGYwZTBkMjJlNDIxYmFjZmI2YWQ0NTk4OTI4ODcuYmluZFBvcHVwKHBvcHVwXzBkYTcyYzY1YjEwODRkMzRiMDg1ZGFmMGZkNDhhMTkwKQogICAgICAgIDsKCiAgICAgICAgCiAgICAKICAgIAogICAgICAgICAgICB2YXIgbWFya2VyXzFhYTRkMWEyNTk3ODRkOTlhYmM5NTQ3NTQzZjBjMDVjID0gTC5tYXJrZXIoCiAgICAgICAgICAgICAgICBbLTI3LjcyNTEsIC01NC4xMjc0OTk5OTk5ODk5OV0sCiAgICAgICAgICAgICAgICB7fQogICAgICAgICAgICApLmFkZFRvKG1hcF9jYWQwYWZhNjUzNTk0MTc3ODllNjNjZjVjZWUwYzA3NSk7CiAgICAgICAgCiAgICAKICAgICAgICAgICAgdmFyIGljb25fYmMwYWQ2MDRkMzg1NDUxYmE3MGNiMWViOGMxODBlNGQgPSBMLkF3ZXNvbWVNYXJrZXJzLmljb24oCiAgICAgICAgICAgICAgICB7ImV4dHJhQ2xhc3NlcyI6ICJmYS1yb3RhdGUtMCIsICJpY29uIjogImluZm8tc2lnbiIsICJpY29uQ29sb3IiOiAid2hpdGUiLCAibWFya2VyQ29sb3IiOiAiZ3JlZW4iLCAicHJlZml4IjogImdseXBoaWNvbiJ9CiAgICAgICAgICAgICk7CiAgICAgICAgICAgIG1hcmtlcl8xYWE0ZDFhMjU5Nzg0ZDk5YWJjOTU0NzU0M2YwYzA1Yy5zZXRJY29uKGljb25fYmMwYWQ2MDRkMzg1NDUxYmE3MGNiMWViOGMxODBlNGQpOwogICAgICAgIAogICAgCiAgICAgICAgdmFyIHBvcHVwXzkwYWYzMDk0YWE3ZDQzYzc5N2M0NTc2NWU5OWMwNDA0ID0gTC5wb3B1cCh7Im1heFdpZHRoIjogIjEwMCUifSk7CgogICAgICAgIAogICAgICAgICAgICB2YXIgaHRtbF8wYzkzNzE4Y2U4NWQ0ZDhkYTA5NDQ2YWZhNTJjZmI5MCA9ICQoYDxkaXYgaWQ9Imh0bWxfMGM5MzcxOGNlODVkNGQ4ZGEwOTQ0NmFmYTUyY2ZiOTAiIHN0eWxlPSJ3aWR0aDogMTAwLjAlOyBoZWlnaHQ6IDEwMC4wJTsiPlPDo28gSm9zw6kgZG8gSW5oYWNvcsOhPC9kaXY+YClbMF07CiAgICAgICAgICAgIHBvcHVwXzkwYWYzMDk0YWE3ZDQzYzc5N2M0NTc2NWU5OWMwNDA0LnNldENvbnRlbnQoaHRtbF8wYzkzNzE4Y2U4NWQ0ZDhkYTA5NDQ2YWZhNTJjZmI5MCk7CiAgICAgICAgCgogICAgICAgIG1hcmtlcl8xYWE0ZDFhMjU5Nzg0ZDk5YWJjOTU0NzU0M2YwYzA1Yy5iaW5kUG9wdXAocG9wdXBfOTBhZjMwOTRhYTdkNDNjNzk3YzQ1NzY1ZTk5YzA0MDQpCiAgICAgICAgOwoKICAgICAgICAKICAgIAogICAgCiAgICAgICAgICAgIHZhciBtYXJrZXJfYzE3MzkzZDQ2YjNmNGFiZTljMjA4ZTc0Njk1MDk0YjkgPSBMLm1hcmtlcigKICAgICAgICAgICAgICAgIFstMjguNDc1OCwgLTUxLjg0NDddLAogICAgICAgICAgICAgICAge30KICAgICAgICAgICAgKS5hZGRUbyhtYXBfY2FkMGFmYTY1MzU5NDE3Nzg5ZTYzY2Y1Y2VlMGMwNzUpOwogICAgICAgIAogICAgCiAgICAgICAgICAgIHZhciBpY29uXzE3YjdlNjkzZDc1ZDRjYzlhZTAwODRjNzk3YzAwZWY5ID0gTC5Bd2Vzb21lTWFya2Vycy5pY29uKAogICAgICAgICAgICAgICAgeyJleHRyYUNsYXNzZXMiOiAiZmEtcm90YXRlLTAiLCAiaWNvbiI6ICJpbmZvLXNpZ24iLCAiaWNvbkNvbG9yIjogIndoaXRlIiwgIm1hcmtlckNvbG9yIjogImdyZWVuIiwgInByZWZpeCI6ICJnbHlwaGljb24ifQogICAgICAgICAgICApOwogICAgICAgICAgICBtYXJrZXJfYzE3MzkzZDQ2YjNmNGFiZTljMjA4ZTc0Njk1MDk0Yjkuc2V0SWNvbihpY29uXzE3YjdlNjkzZDc1ZDRjYzlhZTAwODRjNzk3YzAwZWY5KTsKICAgICAgICAKICAgIAogICAgICAgIHZhciBwb3B1cF9jNTUwNmQ3MzUwMGY0MDRjOWUzODg4ODQzZGQyOGVjNyA9IEwucG9wdXAoeyJtYXhXaWR0aCI6ICIxMDAlIn0pOwoKICAgICAgICAKICAgICAgICAgICAgdmFyIGh0bWxfZDg1NWMzMGYyOTRkNGYwZDliNDViMTY5ZTEzYzkwZTggPSAkKGA8ZGl2IGlkPSJodG1sX2Q4NTVjMzBmMjk0ZDRmMGQ5YjQ1YjE2OWUxM2M5MGU4IiBzdHlsZT0id2lkdGg6IDEwMC4wJTsgaGVpZ2h0OiAxMDAuMCU7Ij5WYW5pbmk8L2Rpdj5gKVswXTsKICAgICAgICAgICAgcG9wdXBfYzU1MDZkNzM1MDBmNDA0YzllMzg4ODg0M2RkMjhlYzcuc2V0Q29udGVudChodG1sX2Q4NTVjMzBmMjk0ZDRmMGQ5YjQ1YjE2OWUxM2M5MGU4KTsKICAgICAgICAKCiAgICAgICAgbWFya2VyX2MxNzM5M2Q0NmIzZjRhYmU5YzIwOGU3NDY5NTA5NGI5LmJpbmRQb3B1cChwb3B1cF9jNTUwNmQ3MzUwMGY0MDRjOWUzODg4ODQzZGQyOGVjNykKICAgICAgICA7CgogICAgICAgIAogICAgCiAgICAKICAgICAgICAgICAgdmFyIG1hcmtlcl80OGFmNmFkM2RlYWM0YzcyOGNlNjZhNTk1NTY5N2Y0OSA9IEwubWFya2VyKAogICAgICAgICAgICAgICAgWy0yOC44MDUxOTk5OTk5OTAwMDIsIC01MS43OTQ2XSwKICAgICAgICAgICAgICAgIHt9CiAgICAgICAgICAgICkuYWRkVG8obWFwX2NhZDBhZmE2NTM1OTQxNzc4OWU2M2NmNWNlZTBjMDc1KTsKICAgICAgICAKICAgIAogICAgICAgICAgICB2YXIgaWNvbl9mM2UxMDEwNzZkYWM0ZWE1OGY5MzdjNGRiNzczZjAzNiA9IEwuQXdlc29tZU1hcmtlcnMuaWNvbigKICAgICAgICAgICAgICAgIHsiZXh0cmFDbGFzc2VzIjogImZhLXJvdGF0ZS0wIiwgImljb24iOiAiaW5mby1zaWduIiwgImljb25Db2xvciI6ICJ3aGl0ZSIsICJtYXJrZXJDb2xvciI6ICJncmVlbiIsICJwcmVmaXgiOiAiZ2x5cGhpY29uIn0KICAgICAgICAgICAgKTsKICAgICAgICAgICAgbWFya2VyXzQ4YWY2YWQzZGVhYzRjNzI4Y2U2NmE1OTU1Njk3ZjQ5LnNldEljb24oaWNvbl9mM2UxMDEwNzZkYWM0ZWE1OGY5MzdjNGRiNzczZjAzNik7CiAgICAgICAgCiAgICAKICAgICAgICB2YXIgcG9wdXBfNTUzNzEzNzVjOTE2NGMwODlmNGQ5N2Y1YzY3MWM3N2IgPSBMLnBvcHVwKHsibWF4V2lkdGgiOiAiMTAwJSJ9KTsKCiAgICAgICAgCiAgICAgICAgICAgIHZhciBodG1sXzQxM2QxMzZmMGJmNjQ1NDY4YTQ3ZTFmNDk1N2IxODJhID0gJChgPGRpdiBpZD0iaHRtbF80MTNkMTM2ZjBiZjY0NTQ2OGE0N2UxZjQ5NTdiMTgyYSIgc3R5bGU9IndpZHRoOiAxMDAuMCU7IGhlaWdodDogMTAwLjAlOyI+VmlzdGEgQWxlZ3JlIGRvIFByYXRhPC9kaXY+YClbMF07CiAgICAgICAgICAgIHBvcHVwXzU1MzcxMzc1YzkxNjRjMDg5ZjRkOTdmNWM2NzFjNzdiLnNldENvbnRlbnQoaHRtbF80MTNkMTM2ZjBiZjY0NTQ2OGE0N2UxZjQ5NTdiMTgyYSk7CiAgICAgICAgCgogICAgICAgIG1hcmtlcl80OGFmNmFkM2RlYWM0YzcyOGNlNjZhNTk1NTY5N2Y0OS5iaW5kUG9wdXAocG9wdXBfNTUzNzEzNzVjOTE2NGMwODlmNGQ5N2Y1YzY3MWM3N2IpCiAgICAgICAgOwoKICAgICAgICAKICAgIAo8L3NjcmlwdD4= onload=\"this.contentDocument.open();this.contentDocument.write(atob(this.getAttribute('data-html')));this.contentDocument.close();\" allowfullscreen webkitallowfullscreen mozallowfullscreen></iframe></div></div>"
      ],
      "text/plain": [
       "<folium.folium.Map at 0x18b861aeb20>"
      ]
     },
     "execution_count": 16,
     "metadata": {},
     "output_type": "execute_result"
    }
   ],
   "source": [
    "# Percorrer o DataFrame com base nas melhores escolas (tx_distorção <= 10) e desenhar um marcador para cada escola\n",
    "# usando for e inter rows\n",
    "\n",
    "for indice,municipio in df[df['tx_distorcao'] <= 10].iterrows():\n",
    "    folium.Marker(\n",
    "        location=[municipio['latitude'], municipio['longitude'] ],\n",
    "        popup=municipio['Município'],\n",
    "        icon=folium.map.Icon(color='green')\n",
    "    ).add_to(rs)\n",
    "    \n",
    "rs"
   ]
  },
  {
   "cell_type": "markdown",
   "metadata": {},
   "source": [
    "## Mostrando o mapa\n",
    "Como no github não aparece a imagem do mapa, sera ilustrado o resultado obtido no Jupyter Notebook.\n",
    "![Mapa1](Mapa3.JPG)"
   ]
  },
  {
   "cell_type": "code",
   "execution_count": 17,
   "metadata": {
    "scrolled": false
   },
   "outputs": [
    {
     "data": {
      "text/html": [
       "<div style=\"width:100%;\"><div style=\"position:relative;width:100%;height:0;padding-bottom:60%;\"><span style=\"color:#565656\">Make this Notebook Trusted to load map: File -> Trust Notebook</span><iframe src=\"about:blank\" style=\"position:absolute;width:100%;height:100%;left:0;top:0;border:none !important;\" data-html=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 onload=\"this.contentDocument.open();this.contentDocument.write(atob(this.getAttribute('data-html')));this.contentDocument.close();\" allowfullscreen webkitallowfullscreen mozallowfullscreen></iframe></div></div>"
      ],
      "text/plain": [
       "<folium.folium.Map at 0x18b861aeb20>"
      ]
     },
     "execution_count": 17,
     "metadata": {},
     "output_type": "execute_result"
    }
   ],
   "source": [
    "# Percorrer o DataFrame com base nas piores escolas (tx_distorção >= 45) e desenhar um marcador para cada escola\n",
    "# usando for e inter rows\n",
    "\n",
    "for indice,municipio in df[df['tx_distorcao'] >= 45].iterrows():\n",
    "    folium.Marker(\n",
    "        location=[municipio['latitude'], municipio['longitude'] ],\n",
    "        popup=municipio['Município'],\n",
    "        icon=folium.map.Icon(color='red')\n",
    "    ).add_to(rs)\n",
    "    \n",
    "rs"
   ]
  },
  {
   "cell_type": "markdown",
   "metadata": {},
   "source": [
    "## Mostrando o mapa\n",
    "Como no github não aparece a imagem do mapa, sera ilustrado o resultado obtido no Jupyter Notebook.\n",
    "![Mapa1](Mapa4.JPG)"
   ]
  },
  {
   "cell_type": "code",
   "execution_count": 18,
   "metadata": {},
   "outputs": [
    {
     "data": {
      "text/plain": [
       "325    32.3\n",
       "Name: tx_distorcao, dtype: float64"
      ]
     },
     "execution_count": 18,
     "metadata": {},
     "output_type": "execute_result"
    }
   ],
   "source": [
    "# Qual a taxa de distorção de PA\n",
    "df[df['Município'] == 'Porto Alegre']['tx_distorcao']"
   ]
  }
 ],
 "metadata": {
  "kernelspec": {
   "display_name": "Python 3",
   "language": "python",
   "name": "python3"
  },
  "language_info": {
   "codemirror_mode": {
    "name": "ipython",
    "version": 3
   },
   "file_extension": ".py",
   "mimetype": "text/x-python",
   "name": "python",
   "nbconvert_exporter": "python",
   "pygments_lexer": "ipython3",
   "version": "3.8.3"
  }
 },
 "nbformat": 4,
 "nbformat_minor": 4
}
